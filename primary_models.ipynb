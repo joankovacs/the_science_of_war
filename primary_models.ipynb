{
 "cells": [
  {
   "cell_type": "code",
   "execution_count": 1,
   "metadata": {},
   "outputs": [
    {
     "name": "stderr",
     "output_type": "stream",
     "text": [
      "/home/arcosion/anaconda3/lib/python3.7/site-packages/pyparsing.py:3174: FutureWarning: Possible set intersection at position 3\n",
      "  self.re = re.compile(self.reString)\n"
     ]
    }
   ],
   "source": [
    "import numpy as np\n",
    "import pandas as pd\n",
    "import matplotlib.pyplot as plt\n",
    "\n",
    "#preprocessing\n",
    "from sklearn.model_selection import train_test_split, GridSearchCV\n",
    "from sklearn.pipeline import Pipeline\n",
    "from sklearn.preprocessing import StandardScaler\n",
    "from sklearn.decomposition import PCA\n",
    "\n",
    "#models\n",
    "from sklearn.dummy import DummyRegressor\n",
    "from sklearn.linear_model import RidgeCV\n",
    "from sklearn.svm import SVR\n",
    "from xgboost import XGBRegressor\n",
    "\n",
    "#metrics\n",
    "from sklearn.metrics import silhouette_score, r2_score, mean_squared_error, mean_absolute_error, accuracy_score\n",
    "\n",
    "#additional models\n",
    "from sklearn.cluster import DBSCAN\n",
    "from autosklearn.regression import AutoSklearnRegressor\n",
    "from autosklearn.classification import AutoSklearnClassifier\n",
    "#from statsmodels.miscmodels.ordinal_model import OrderedModel"
   ]
  },
  {
   "cell_type": "code",
   "execution_count": 2,
   "metadata": {},
   "outputs": [
    {
     "data": {
      "text/html": [
       "<div>\n",
       "<style scoped>\n",
       "    .dataframe tbody tr th:only-of-type {\n",
       "        vertical-align: middle;\n",
       "    }\n",
       "\n",
       "    .dataframe tbody tr th {\n",
       "        vertical-align: top;\n",
       "    }\n",
       "\n",
       "    .dataframe thead th {\n",
       "        text-align: right;\n",
       "    }\n",
       "</style>\n",
       "<table border=\"1\" class=\"dataframe\">\n",
       "  <thead>\n",
       "    <tr style=\"text-align: right;\">\n",
       "      <th></th>\n",
       "      <th>dispnum</th>\n",
       "      <th>incidnum</th>\n",
       "      <th>y_duration</th>\n",
       "      <th>year</th>\n",
       "      <th>a_country</th>\n",
       "      <th>a_rev_territory</th>\n",
       "      <th>a_rev_policy</th>\n",
       "      <th>a_rev_regime</th>\n",
       "      <th>a_rev_other</th>\n",
       "      <th>a_fatalities</th>\n",
       "      <th>...</th>\n",
       "      <th>a_hostlev</th>\n",
       "      <th>a_coalition</th>\n",
       "      <th>b_country</th>\n",
       "      <th>b_rev_territory</th>\n",
       "      <th>b_rev_policy</th>\n",
       "      <th>b_rev_regime</th>\n",
       "      <th>b_rev_other</th>\n",
       "      <th>b_fatalities</th>\n",
       "      <th>b_hiact</th>\n",
       "      <th>b_hostlev</th>\n",
       "    </tr>\n",
       "  </thead>\n",
       "  <tbody>\n",
       "    <tr>\n",
       "      <th>0</th>\n",
       "      <td>3551</td>\n",
       "      <td>3551010</td>\n",
       "      <td>1.0</td>\n",
       "      <td>1993</td>\n",
       "      <td>2</td>\n",
       "      <td>0</td>\n",
       "      <td>1</td>\n",
       "      <td>0</td>\n",
       "      <td>0</td>\n",
       "      <td>0</td>\n",
       "      <td>...</td>\n",
       "      <td>2</td>\n",
       "      <td>0.0</td>\n",
       "      <td>345</td>\n",
       "      <td>0</td>\n",
       "      <td>0</td>\n",
       "      <td>0</td>\n",
       "      <td>0</td>\n",
       "      <td>0</td>\n",
       "      <td>0</td>\n",
       "      <td>1</td>\n",
       "    </tr>\n",
       "    <tr>\n",
       "      <th>1</th>\n",
       "      <td>3551</td>\n",
       "      <td>3551002</td>\n",
       "      <td>1404.0</td>\n",
       "      <td>1992</td>\n",
       "      <td>coalition</td>\n",
       "      <td>0</td>\n",
       "      <td>1</td>\n",
       "      <td>0</td>\n",
       "      <td>0</td>\n",
       "      <td>0</td>\n",
       "      <td>...</td>\n",
       "      <td>4</td>\n",
       "      <td>8.0</td>\n",
       "      <td>345</td>\n",
       "      <td>0</td>\n",
       "      <td>0</td>\n",
       "      <td>0</td>\n",
       "      <td>0</td>\n",
       "      <td>0</td>\n",
       "      <td>0</td>\n",
       "      <td>1</td>\n",
       "    </tr>\n",
       "    <tr>\n",
       "      <th>2</th>\n",
       "      <td>3551</td>\n",
       "      <td>3551001</td>\n",
       "      <td>1.0</td>\n",
       "      <td>1992</td>\n",
       "      <td>coalition</td>\n",
       "      <td>0</td>\n",
       "      <td>1</td>\n",
       "      <td>0</td>\n",
       "      <td>0</td>\n",
       "      <td>0</td>\n",
       "      <td>...</td>\n",
       "      <td>3</td>\n",
       "      <td>12.0</td>\n",
       "      <td>345</td>\n",
       "      <td>0</td>\n",
       "      <td>0</td>\n",
       "      <td>0</td>\n",
       "      <td>0</td>\n",
       "      <td>0</td>\n",
       "      <td>0</td>\n",
       "      <td>1</td>\n",
       "    </tr>\n",
       "    <tr>\n",
       "      <th>3</th>\n",
       "      <td>3551</td>\n",
       "      <td>3551009</td>\n",
       "      <td>185.0</td>\n",
       "      <td>1993</td>\n",
       "      <td>2</td>\n",
       "      <td>0</td>\n",
       "      <td>1</td>\n",
       "      <td>0</td>\n",
       "      <td>0</td>\n",
       "      <td>0</td>\n",
       "      <td>...</td>\n",
       "      <td>4</td>\n",
       "      <td>0.0</td>\n",
       "      <td>345</td>\n",
       "      <td>0</td>\n",
       "      <td>0</td>\n",
       "      <td>0</td>\n",
       "      <td>0</td>\n",
       "      <td>0</td>\n",
       "      <td>0</td>\n",
       "      <td>1</td>\n",
       "    </tr>\n",
       "    <tr>\n",
       "      <th>4</th>\n",
       "      <td>3551</td>\n",
       "      <td>3551008</td>\n",
       "      <td>1.0</td>\n",
       "      <td>1993</td>\n",
       "      <td>coalition</td>\n",
       "      <td>0</td>\n",
       "      <td>1</td>\n",
       "      <td>0</td>\n",
       "      <td>0</td>\n",
       "      <td>0</td>\n",
       "      <td>...</td>\n",
       "      <td>3</td>\n",
       "      <td>2.0</td>\n",
       "      <td>345</td>\n",
       "      <td>0</td>\n",
       "      <td>0</td>\n",
       "      <td>0</td>\n",
       "      <td>0</td>\n",
       "      <td>0</td>\n",
       "      <td>0</td>\n",
       "      <td>1</td>\n",
       "    </tr>\n",
       "    <tr>\n",
       "      <th>...</th>\n",
       "      <td>...</td>\n",
       "      <td>...</td>\n",
       "      <td>...</td>\n",
       "      <td>...</td>\n",
       "      <td>...</td>\n",
       "      <td>...</td>\n",
       "      <td>...</td>\n",
       "      <td>...</td>\n",
       "      <td>...</td>\n",
       "      <td>...</td>\n",
       "      <td>...</td>\n",
       "      <td>...</td>\n",
       "      <td>...</td>\n",
       "      <td>...</td>\n",
       "      <td>...</td>\n",
       "      <td>...</td>\n",
       "      <td>...</td>\n",
       "      <td>...</td>\n",
       "      <td>...</td>\n",
       "      <td>...</td>\n",
       "      <td>...</td>\n",
       "    </tr>\n",
       "    <tr>\n",
       "      <th>4125</th>\n",
       "      <td>4723</td>\n",
       "      <td>4723002</td>\n",
       "      <td>1.0</td>\n",
       "      <td>2012</td>\n",
       "      <td>740</td>\n",
       "      <td>1</td>\n",
       "      <td>0</td>\n",
       "      <td>0</td>\n",
       "      <td>0</td>\n",
       "      <td>0</td>\n",
       "      <td>...</td>\n",
       "      <td>1</td>\n",
       "      <td>0.0</td>\n",
       "      <td>732</td>\n",
       "      <td>1</td>\n",
       "      <td>0</td>\n",
       "      <td>0</td>\n",
       "      <td>0</td>\n",
       "      <td>0</td>\n",
       "      <td>7</td>\n",
       "      <td>3</td>\n",
       "    </tr>\n",
       "    <tr>\n",
       "      <th>4126</th>\n",
       "      <td>4724</td>\n",
       "      <td>4724002</td>\n",
       "      <td>1.0</td>\n",
       "      <td>2013</td>\n",
       "      <td>740</td>\n",
       "      <td>0</td>\n",
       "      <td>1</td>\n",
       "      <td>0</td>\n",
       "      <td>0</td>\n",
       "      <td>0</td>\n",
       "      <td>...</td>\n",
       "      <td>3</td>\n",
       "      <td>0.0</td>\n",
       "      <td>731</td>\n",
       "      <td>0</td>\n",
       "      <td>1</td>\n",
       "      <td>0</td>\n",
       "      <td>0</td>\n",
       "      <td>0</td>\n",
       "      <td>0</td>\n",
       "      <td>1</td>\n",
       "    </tr>\n",
       "    <tr>\n",
       "      <th>4127</th>\n",
       "      <td>4724</td>\n",
       "      <td>4724001</td>\n",
       "      <td>2.0</td>\n",
       "      <td>2013</td>\n",
       "      <td>732</td>\n",
       "      <td>0</td>\n",
       "      <td>1</td>\n",
       "      <td>0</td>\n",
       "      <td>0</td>\n",
       "      <td>0</td>\n",
       "      <td>...</td>\n",
       "      <td>3</td>\n",
       "      <td>0.0</td>\n",
       "      <td>731</td>\n",
       "      <td>0</td>\n",
       "      <td>1</td>\n",
       "      <td>0</td>\n",
       "      <td>0</td>\n",
       "      <td>0</td>\n",
       "      <td>0</td>\n",
       "      <td>1</td>\n",
       "    </tr>\n",
       "    <tr>\n",
       "      <th>4128</th>\n",
       "      <td>4725</td>\n",
       "      <td>4725001</td>\n",
       "      <td>1.0</td>\n",
       "      <td>2014</td>\n",
       "      <td>732</td>\n",
       "      <td>0</td>\n",
       "      <td>1</td>\n",
       "      <td>0</td>\n",
       "      <td>0</td>\n",
       "      <td>0</td>\n",
       "      <td>...</td>\n",
       "      <td>3</td>\n",
       "      <td>0.0</td>\n",
       "      <td>731</td>\n",
       "      <td>0</td>\n",
       "      <td>1</td>\n",
       "      <td>0</td>\n",
       "      <td>0</td>\n",
       "      <td>0</td>\n",
       "      <td>0</td>\n",
       "      <td>1</td>\n",
       "    </tr>\n",
       "    <tr>\n",
       "      <th>4129</th>\n",
       "      <td>4726</td>\n",
       "      <td>4726001</td>\n",
       "      <td>1.0</td>\n",
       "      <td>2014</td>\n",
       "      <td>2</td>\n",
       "      <td>0</td>\n",
       "      <td>1</td>\n",
       "      <td>0</td>\n",
       "      <td>0</td>\n",
       "      <td>0</td>\n",
       "      <td>...</td>\n",
       "      <td>4</td>\n",
       "      <td>0.0</td>\n",
       "      <td>770</td>\n",
       "      <td>0</td>\n",
       "      <td>1</td>\n",
       "      <td>0</td>\n",
       "      <td>0</td>\n",
       "      <td>0</td>\n",
       "      <td>0</td>\n",
       "      <td>1</td>\n",
       "    </tr>\n",
       "  </tbody>\n",
       "</table>\n",
       "<p>4130 rows × 21 columns</p>\n",
       "</div>"
      ],
      "text/plain": [
       "      dispnum  incidnum  y_duration  year  a_country  a_rev_territory  \\\n",
       "0        3551   3551010         1.0  1993          2                0   \n",
       "1        3551   3551002      1404.0  1992  coalition                0   \n",
       "2        3551   3551001         1.0  1992  coalition                0   \n",
       "3        3551   3551009       185.0  1993          2                0   \n",
       "4        3551   3551008         1.0  1993  coalition                0   \n",
       "...       ...       ...         ...   ...        ...              ...   \n",
       "4125     4723   4723002         1.0  2012        740                1   \n",
       "4126     4724   4724002         1.0  2013        740                0   \n",
       "4127     4724   4724001         2.0  2013        732                0   \n",
       "4128     4725   4725001         1.0  2014        732                0   \n",
       "4129     4726   4726001         1.0  2014          2                0   \n",
       "\n",
       "      a_rev_policy  a_rev_regime  a_rev_other  a_fatalities  ...  a_hostlev  \\\n",
       "0                1             0            0             0  ...          2   \n",
       "1                1             0            0             0  ...          4   \n",
       "2                1             0            0             0  ...          3   \n",
       "3                1             0            0             0  ...          4   \n",
       "4                1             0            0             0  ...          3   \n",
       "...            ...           ...          ...           ...  ...        ...   \n",
       "4125             0             0            0             0  ...          1   \n",
       "4126             1             0            0             0  ...          3   \n",
       "4127             1             0            0             0  ...          3   \n",
       "4128             1             0            0             0  ...          3   \n",
       "4129             1             0            0             0  ...          4   \n",
       "\n",
       "      a_coalition  b_country b_rev_territory  b_rev_policy  b_rev_regime  \\\n",
       "0             0.0        345               0             0             0   \n",
       "1             8.0        345               0             0             0   \n",
       "2            12.0        345               0             0             0   \n",
       "3             0.0        345               0             0             0   \n",
       "4             2.0        345               0             0             0   \n",
       "...           ...        ...             ...           ...           ...   \n",
       "4125          0.0        732               1             0             0   \n",
       "4126          0.0        731               0             1             0   \n",
       "4127          0.0        731               0             1             0   \n",
       "4128          0.0        731               0             1             0   \n",
       "4129          0.0        770               0             1             0   \n",
       "\n",
       "      b_rev_other  b_fatalities  b_hiact  b_hostlev  \n",
       "0               0             0        0          1  \n",
       "1               0             0        0          1  \n",
       "2               0             0        0          1  \n",
       "3               0             0        0          1  \n",
       "4               0             0        0          1  \n",
       "...           ...           ...      ...        ...  \n",
       "4125            0             0        7          3  \n",
       "4126            0             0        0          1  \n",
       "4127            0             0        0          1  \n",
       "4128            0             0        0          1  \n",
       "4129            0             0        0          1  \n",
       "\n",
       "[4130 rows x 21 columns]"
      ]
     },
     "execution_count": 2,
     "metadata": {},
     "output_type": "execute_result"
    }
   ],
   "source": [
    "df = pd.read_csv(\"./final_data/incidents.csv\")\n",
    "df"
   ]
  },
  {
   "cell_type": "code",
   "execution_count": 3,
   "metadata": {},
   "outputs": [],
   "source": [
    "###############################################################################################################################\n",
    "#####  Data structures - lists & basics  ######################################################################################\n",
    "\n",
    "one_hots = ['year', 'a_country', 'b_country']\n",
    "\n",
    "###############################################################################################################################\n",
    "#####  Data structures - pipelines & parameter grids  #########################################################################\n",
    "\n",
    "PCA_SVRPipe = Pipeline([\n",
    "    ('ss', StandardScaler()),\n",
    "    ('pca', PCA(random_state = 42)),\n",
    "    ('svr', SVR())\n",
    "])\n",
    "\n",
    "pca_grid = {\n",
    "    \"pca__n_components\":[None, 8, 20]\n",
    "}\n",
    "\n",
    "svr_grid = {\n",
    "    \"svr__C\":[0.1, 1, 10]\n",
    "}"
   ]
  },
  {
   "cell_type": "code",
   "execution_count": 20,
   "metadata": {},
   "outputs": [],
   "source": [
    "#Function definitions\n",
    "\n",
    "def onehot(df, target):\n",
    "    #Returns an augmented dataframe that has appended one-hot columns and removed the original column\\\n",
    "    dumdum = pd.get_dummies(df[target], prefix=target, drop_first=True)\n",
    "    df = pd.concat([df, dumdum], axis=1)\n",
    "    df.drop(columns=target, inplace=True)\n",
    "    return df\n",
    "\n",
    "\n",
    "\n",
    "def autohot(df, target_list):\n",
    "    #returns a dataframe that has one-hot encoded the target list and appended\n",
    "    for feature in target_list:\n",
    "        df = onehot(df, feature)\n",
    "    return df\n",
    "\n",
    "\n",
    "\n",
    "def drop_low_freqs(df, prefix_targets):\n",
    "    #drops all columns from the target list whose sum <= 2\n",
    "    target_list = []\n",
    "    for prefix in prefix_targets:\n",
    "        targets = [feature for feature in df.columns if prefix in feature]\n",
    "        target_list += targets\n",
    "    \n",
    "    low_freqs = [col for col in target_list if sum(df[col]) <= 3]\n",
    "    \n",
    "    return df.drop(columns=low_freqs)\n",
    "\n",
    "\n",
    "def bounding_limits(preds, min_bound, max_bound):\n",
    "    #limits the results of a regression prediction to minimum or maximum limits (such as if it is predicting time or ordinals)\n",
    "    if min_bound != None:\n",
    "        for i in range(len(preds)):\n",
    "            if preds[i] < min_bound:\n",
    "                preds[i] = min_bound\n",
    "    \n",
    "    if max_bound != None:\n",
    "        for i in range(len(preds)):\n",
    "            if preds[i] > max_bound:\n",
    "                preds[i] = max_bound\n",
    "    \n",
    "    return preds\n",
    "\n",
    "def autogrid(X, y, Pipe, model_grid, estimator_grid={}, min_bound=None, max_bound=None):\n",
    "    #runs a grid on the pipe, based on parameters, and then returns predictions from the best model. \n",
    "    X_train, X_test, y_train, y_test = train_test_split(X, y)\n",
    "    \n",
    "    model_grid.update(estimator_grid)\n",
    "    \n",
    "    Grid = GridSearchCV(Pipe, param_grid=model_grid, cv=5, verbose=0)\n",
    "    Grid.fit(X_train, y_train)\n",
    "    \n",
    "    preds = Grid.predict(X_test)\n",
    "    preds = bounding_limits(preds, min_bound, max_bound)\n",
    "    \n",
    "    return y_test, preds\n",
    "\n",
    "\n",
    "\n",
    "def make_whole(array):\n",
    "    #rounds an array\n",
    "    int_array = array\n",
    "    for i in range(len(int_array)):\n",
    "        int_array[i] = int(round(int_array[i]))\n",
    "    return int_array\n",
    "\n",
    "\n",
    "\n",
    "def model_metrics(title, true, preds, mae=False, acc=False):\n",
    "    #title is the name of the variable being selected.  mae or acc= True to choose metrics.  Accuracy expects an ordinal variable predicted by regression and will round before running.\n",
    "    if mae==True:\n",
    "        print(f'Mean Absolute Error for predicting {title}: {mean_absolute_error(y_true=true, y_pred=preds)}')\n",
    "\n",
    "    if acc==True:\n",
    "        preds = make_whole(preds)\n",
    "        print(f'Precision accuracy score for {title} (after rounding):  {round(accuracy_score(y_true=true, y_pred=preds), 3) * 100}%')"
   ]
  },
  {
   "cell_type": "markdown",
   "metadata": {},
   "source": [
    "---\n",
    "---"
   ]
  },
  {
   "cell_type": "code",
   "execution_count": 8,
   "metadata": {},
   "outputs": [],
   "source": [
    "#Data setup\n",
    "prep = autohot(df, one_hots)\n",
    "prep = drop_low_freqs(prep, one_hots)"
   ]
  },
  {
   "cell_type": "markdown",
   "metadata": {},
   "source": [
    "---\n",
    "---\n",
    "\n",
    "## Modelling & Code \n",
    "\n",
    "---\n",
    "---\n",
    "\n",
    "1. Target: hiact (sides a & b)\n",
    "2. Preprocessing: Drop low frequencies + PCA\n",
    "3. Models: SVR"
   ]
  },
  {
   "cell_type": "code",
   "execution_count": 10,
   "metadata": {},
   "outputs": [],
   "source": [
    "drop_columns = ['dispnum', 'incidnum', 'y_duration', 'a_hiact']\n",
    "target = \"a_hiact\"\n",
    "\n",
    "X = prep.drop(columns=drop_columns)\n",
    "y = prep[target]"
   ]
  },
  {
   "cell_type": "code",
   "execution_count": 14,
   "metadata": {},
   "outputs": [],
   "source": [
    "a_svr_true, a_svr_preds = autogrid(X, y, PCA_SVRPipe, model_grid=svr_grid, estimator_grid=pca_grid, min_bound=0.0, max_bound=21.0)"
   ]
  },
  {
   "cell_type": "markdown",
   "metadata": {},
   "source": [
    "---\n",
    "---\n"
   ]
  },
  {
   "cell_type": "code",
   "execution_count": 15,
   "metadata": {},
   "outputs": [],
   "source": [
    "drop_columns = ['dispnum', 'incidnum', 'y_duration', 'b_hiact']\n",
    "target = \"b_hiact\"\n",
    "\n",
    "X = prep.drop(columns=drop_columns)\n",
    "y = prep[target]"
   ]
  },
  {
   "cell_type": "code",
   "execution_count": 16,
   "metadata": {},
   "outputs": [],
   "source": [
    "b_svr_true, b_svr_preds = autogrid(X, y, PCA_SVRPipe, model_grid=svr_grid, estimator_grid=pca_grid, min_bound=0.0, max_bound=21.0)"
   ]
  },
  {
   "cell_type": "code",
   "execution_count": 21,
   "metadata": {},
   "outputs": [
    {
     "name": "stdout",
     "output_type": "stream",
     "text": [
      "Mean Absolute Error for predicting a_hiact: 1.3155856727976767\n",
      "Precision accuracy score for a_hiact (after rounding):  57.699999999999996%\n",
      "\n",
      "Mean Absolute Error for predicting b_hiact: 0.9244917715392061\n",
      "Precision accuracy score for b_hiact (after rounding):  75.6%\n"
     ]
    }
   ],
   "source": [
    "model_metrics(\"a_hiact\", a_svr_true, a_svr_preds, mae=True, acc=True)\n",
    "print('')\n",
    "model_metrics(\"b_hiact\", b_svr_true, b_svr_preds, mae=True, acc=True)"
   ]
  },
  {
   "cell_type": "markdown",
   "metadata": {},
   "source": [
    "---\n",
    "---\n",
    "\n",
    "## Modelling & Code \n",
    "\n",
    "---\n",
    "---\n",
    "\n",
    "1. Target: hiact (sides a & b)\n",
    "2. Preprocessing & Models: AutoSklearn"
   ]
  },
  {
   "cell_type": "code",
   "execution_count": 25,
   "metadata": {},
   "outputs": [],
   "source": [
    "def autolearn(X, y, Machine):\n",
    "    X_train, X_test, y_train, y_test = train_test_split(X, y, random_state=42)\n",
    "\n",
    "    Machine.fit(X_train, y_train, dataset_name='MIDs')\n",
    "\n",
    "    preds = Machine.predict(X_test)\n",
    "\n",
    "    for i in range(len(preds)):\n",
    "        if preds[i] < 0.0:\n",
    "            preds[i] = 0.0\n",
    "        if preds[i] > 21.0:\n",
    "            preds[i] = 21.0\n",
    "\n",
    "    return X_test, y_test, preds"
   ]
  },
  {
   "cell_type": "code",
   "execution_count": 26,
   "metadata": {},
   "outputs": [],
   "source": [
    "AutoML = AutoSklearnRegressor(\n",
    "    time_left_for_this_task=60,\n",
    "    per_run_time_limit=30,\n",
    ")\n",
    "\n",
    "a_drops = ['dispnum', 'incidnum', 'y_duration', 'a_hiact']\n",
    "a_target = \"a_hiact\"\n",
    "\n",
    "b_drops = ['dispnum', 'incidnum', 'y_duration', 'b_hiact']\n",
    "b_target = \"b_hiact\""
   ]
  },
  {
   "cell_type": "code",
   "execution_count": 27,
   "metadata": {},
   "outputs": [],
   "source": [
    "X_a = prep.drop(columns=a_drops)\n",
    "y_a = prep[a_target]\n",
    "\n",
    "X_b = prep.drop(columns=b_drops)\n",
    "y_b = prep[b_target]"
   ]
  },
  {
   "cell_type": "code",
   "execution_count": 29,
   "metadata": {},
   "outputs": [],
   "source": [
    "df_a, ya_true, a_preds = autolearn(X_a, y_a, AutoML)\n",
    "df_b, yb_true, b_preds = autolearn(X_b, y_b, AutoML)"
   ]
  },
  {
   "cell_type": "code",
   "execution_count": 30,
   "metadata": {},
   "outputs": [
    {
     "name": "stdout",
     "output_type": "stream",
     "text": [
      "Mean Absolute Error for predicting a_hiact: 0.5674796159944032\n",
      "Precision accuracy score for a_hiact (after rounding):  67.10000000000001%\n",
      "\n",
      "Mean Absolute Error for predicting b_hiact: 0.17262684690844726\n",
      "Precision accuracy score for b_hiact (after rounding):  89.60000000000001%\n"
     ]
    }
   ],
   "source": [
    "model_metrics(\"a_hiact\", ya_true, a_preds, mae=True, acc=True)\n",
    "print('')\n",
    "model_metrics(\"b_hiact\", yb_true, b_preds, mae=True, acc=True)"
   ]
  },
  {
   "cell_type": "markdown",
   "metadata": {},
   "source": [
    "---\n",
    "---"
   ]
  },
  {
   "cell_type": "code",
   "execution_count": 31,
   "metadata": {},
   "outputs": [],
   "source": [
    "#calculate mode (for accuracy)\n",
    "from scipy.stats import mode\n",
    "a_mode = mode(ya_true)[0][0]\n",
    "b_mode = mode(yb_true)[0][0]\n",
    "a_mode_baseline = [a_mode for i in range(len(ya_true))]\n",
    "b_mode_baseline = [b_mode for i in range(len(yb_true))]\n",
    "\n",
    "#calculate mean (for MAE)\n",
    "a_mean = ya_true.mean()\n",
    "b_mean = yb_true.mean()\n",
    "a_mean_baseline = [a_mean for i in range(len(ya_true))]\n",
    "b_mean_baseline = [b_mean for i in range(len(yb_true))]"
   ]
  },
  {
   "cell_type": "code",
   "execution_count": 32,
   "metadata": {},
   "outputs": [
    {
     "name": "stdout",
     "output_type": "stream",
     "text": [
      "(as compared to mean a_hiact MAE baseline): 5.769563738357344\n",
      "(as compared to b_hiact MAE baseline):      6.3013094502895255\n",
      "\n",
      "(as compared to mode a_hiact accuracy baseline):        20.7%\n",
      "(as compared to mode b_hiact accuracy baseline):        62.9%\n"
     ]
    }
   ],
   "source": [
    "print(f'(as compared to mean a_hiact MAE baseline): {mean_absolute_error(y_true=ya_true, y_pred=a_mean_baseline)}')\n",
    "print(f'(as compared to b_hiact MAE baseline):      {mean_absolute_error(y_true=yb_true, y_pred=b_mean_baseline)}')\n",
    "\n",
    "print('')\n",
    "\n",
    "print(f'(as compared to mode a_hiact accuracy baseline):        {round(accuracy_score(y_true=ya_true, y_pred=a_mode_baseline), 3) * 100}%')\n",
    "print(f'(as compared to mode b_hiact accuracy baseline):        {round(accuracy_score(y_true=yb_true, y_pred=b_mode_baseline), 3) * 100}%')"
   ]
  },
  {
   "cell_type": "markdown",
   "metadata": {},
   "source": [
    "---\n",
    "---\n",
    "### Modelling to try and predict highest hostility level *by country* by incident"
   ]
  },
  {
   "cell_type": "code",
   "execution_count": 34,
   "metadata": {},
   "outputs": [],
   "source": [
    "action_df = pd.read_csv('./final_data/incids_by_country.csv')"
   ]
  },
  {
   "cell_type": "code",
   "execution_count": 35,
   "metadata": {},
   "outputs": [],
   "source": [
    "act_drops = ['dispnum', 'incidnum', 'action']\n",
    "act_target = \"action\"\n",
    "\n",
    "act_prep = autohot(action_df, ['ccode', 'year'])\n",
    "act_prep = drop_low_freqs(act_prep, ['ccode', 'year'])\n",
    "\n",
    "X_act = act_prep.drop(columns=act_drops)\n",
    "y_act = act_prep[act_target]"
   ]
  },
  {
   "cell_type": "code",
   "execution_count": 36,
   "metadata": {},
   "outputs": [],
   "source": [
    "df_act, y_act_true, act_preds = autolearn(X_act, y_act, AutoML)"
   ]
  },
  {
   "cell_type": "code",
   "execution_count": 37,
   "metadata": {},
   "outputs": [],
   "source": [
    "#calculate mode (for accuracy)\n",
    "act_mode = mode(y_act_true)[0][0]\n",
    "act_mode_baseline = [act_mode for i in range(len(y_act_true))]\n",
    "\n",
    "#calculate mean (for MAE)\n",
    "act_mean = y_act_true.mean()\n",
    "act_mean_baseline = [act_mean for i in range(len(y_act_true))]"
   ]
  },
  {
   "cell_type": "code",
   "execution_count": 38,
   "metadata": {},
   "outputs": [
    {
     "name": "stdout",
     "output_type": "stream",
     "text": [
      "Mean Absolute Error for predicting a_hiact: 0.43995632808354934\n",
      "Precision accuracy score for a_hiact (after rounding):  74.8%\n",
      "\n",
      "(as compared to mean per-country hiact MAE baseline): 6.265370568073271\n",
      "(as compared to mode action accuracy baseline):        39.4%\n"
     ]
    }
   ],
   "source": [
    "model_metrics(\"a_hiact\", y_act_true, act_preds, mae=True, acc=True)\n",
    "print('')\n",
    "\n",
    "print(f'(as compared to mean per-country hiact MAE baseline): {mean_absolute_error(y_true=y_act_true, y_pred=act_mean_baseline)}')\n",
    "print(f'(as compared to mode action accuracy baseline):        {round(accuracy_score(y_true=y_act_true, y_pred=act_mode_baseline), 3) * 100}%')"
   ]
  },
  {
   "cell_type": "markdown",
   "metadata": {},
   "source": [
    "---\n",
    "---"
   ]
  },
  {
   "cell_type": "code",
   "execution_count": 39,
   "metadata": {},
   "outputs": [
    {
     "name": "stdout",
     "output_type": "stream",
     "text": [
      "avg no. of allies on side b: 0.015971606033717833\n",
      "total number of side b states: 4508\n"
     ]
    }
   ],
   "source": [
    "subdf = action_df[action_df['side_a']==0]\n",
    "print(\"avg no. of allies on side b:\", subdf['allies'].mean())\n",
    "print(\"total number of side b states:\", len(subdf))"
   ]
  },
  {
   "cell_type": "code",
   "execution_count": 40,
   "metadata": {},
   "outputs": [
    {
     "name": "stdout",
     "output_type": "stream",
     "text": [
      "avg no. of allies on side a: 1.4474662492662884\n",
      "total number of side a states: 5111\n"
     ]
    }
   ],
   "source": [
    "subdf = action_df[action_df['side_a']==1]\n",
    "print(\"avg no. of allies on side a:\", subdf['allies'].mean())\n",
    "print(\"total number of side a states:\", len(subdf))"
   ]
  },
  {
   "cell_type": "markdown",
   "metadata": {},
   "source": [
    "---\n",
    "---\n",
    "\n",
    "### Strict modelling:  less data"
   ]
  },
  {
   "cell_type": "code",
   "execution_count": 41,
   "metadata": {},
   "outputs": [],
   "source": [
    "a_drops = ['dispnum', 'incidnum', 'y_duration', 'a_hiact', 'a_hostlev']\n",
    "a_target = \"a_hiact\"\n",
    "\n",
    "b_drops = ['dispnum', 'incidnum', 'y_duration', 'b_hiact', 'b_hostlev']\n",
    "b_target = \"b_hiact\"\n",
    "\n",
    "##################################################################################\n",
    "\n",
    "X_a_strict = prep.drop(columns=a_drops)\n",
    "y_a_strict = prep[a_target]\n",
    "\n",
    "X_b_strict = prep.drop(columns=b_drops)\n",
    "y_b_strict = prep[b_target]\n",
    "\n",
    "##################################################################################\n",
    "\n",
    "df_a_strict, ya_true_strict, a_preds_strict = autolearn(X_a_strict, y_a_strict, AutoML)\n",
    "df_b_strict, yb_true_strict, b_preds_strict = autolearn(X_b_strict, y_b_strict, AutoML)"
   ]
  },
  {
   "cell_type": "code",
   "execution_count": 42,
   "metadata": {},
   "outputs": [
    {
     "name": "stdout",
     "output_type": "stream",
     "text": [
      "Mean Absolute Error for predicting a_hiact: 1.7131220556271898\n",
      "Precision accuracy score for a_hiact (after rounding):  42.4%\n",
      "\n",
      "Mean Absolute Error for predicting b_hiact: 0.6751223967335624\n",
      "Precision accuracy score for b_hiact (after rounding):  82.3%\n"
     ]
    }
   ],
   "source": [
    "model_metrics(\"a_hiact\", ya_true_strict, a_preds_strict, mae=True, acc=True)\n",
    "print('')\n",
    "model_metrics(\"b_hiact\", yb_true_strict, b_preds_strict, mae=True, acc=True)"
   ]
  },
  {
   "cell_type": "markdown",
   "metadata": {},
   "source": [
    "---\n",
    "---\n",
    "\n",
    "### Strictest modelling:  no information about state disposition or outcome"
   ]
  },
  {
   "cell_type": "code",
   "execution_count": 43,
   "metadata": {},
   "outputs": [],
   "source": [
    "a_drops = ['dispnum', 'incidnum', 'y_duration', 'a_hiact', 'a_hostlev', 'b_hiact', 'b_hostlev']\n",
    "a_target = \"a_hiact\"\n",
    "\n",
    "b_drops = ['dispnum', 'incidnum', 'y_duration', 'a_hiact', 'a_hostlev', 'b_hiact', 'b_hostlev']\n",
    "b_target = \"b_hiact\"\n",
    "\n",
    "##################################################################################\n",
    "\n",
    "X_a_strict2 = prep.drop(columns=a_drops)\n",
    "y_a_strict2 = prep[a_target]\n",
    "\n",
    "X_b_strict2 = prep.drop(columns=b_drops)\n",
    "y_b_strict2 = prep[b_target]\n",
    "\n",
    "##################################################################################\n",
    "\n",
    "df_a_strict2, ya_true_strict2, a_preds_strict2 = autolearn(X_a_strict2, y_a_strict2, AutoML)\n",
    "df_b_strict2, yb_true_strict2, b_preds_strict2 = autolearn(X_b_strict2, y_b_strict2, AutoML)"
   ]
  },
  {
   "cell_type": "code",
   "execution_count": 44,
   "metadata": {},
   "outputs": [
    {
     "name": "stdout",
     "output_type": "stream",
     "text": [
      "Mean Absolute Error for predicting a_hiact: 3.2020648885353777\n",
      "Precision accuracy score for a_hiact (after rounding):  18.7%\n",
      "\n",
      "Mean Absolute Error for predicting b_hiact: 2.551986944895156\n",
      "Precision accuracy score for b_hiact (after rounding):  42.5%\n"
     ]
    }
   ],
   "source": [
    "model_metrics(\"a_hiact\", ya_true_strict2, a_preds_strict2, mae=True, acc=True)\n",
    "print('')\n",
    "model_metrics(\"b_hiact\", yb_true_strict2, b_preds_strict2, mae=True, acc=True)"
   ]
  },
  {
   "cell_type": "markdown",
   "metadata": {},
   "source": [
    "---\n",
    "---\n",
    "\n",
    "### Add'l Grids (for the project)"
   ]
  },
  {
   "cell_type": "code",
   "execution_count": 45,
   "metadata": {},
   "outputs": [],
   "source": [
    "###############################################################################################################################\n",
    "#####  Data structures - pipelines ############################################################################################\n",
    "\n",
    "PCA_RidgePipe = Pipeline([\n",
    "    ('ss', StandardScaler()),\n",
    "    ('pca', PCA(random_state = 42)),\n",
    "    ('rdg', RidgeCV())\n",
    "])\n",
    "\n",
    "PCA_XGBPipe = Pipeline([\n",
    "    ('ss', StandardScaler()),\n",
    "    ('pca', PCA(random_state = 42)),\n",
    "    ('xgb', XGBRegressor())\n",
    "])\n",
    "\n",
    "\n",
    "###############################################################################################################################\n",
    "#####  Data structures - parameter grids  #####################################################################################\n",
    "\n",
    "pca_grid = {\n",
    "    \"pca__n_components\":[None, 8, 20]\n",
    "}\n",
    "\n",
    "ridge_grid = {\n",
    "#    \"rdg__alphas\":np.logspace(0.1, 1, 10),\n",
    "    \"rdg__alpha_per_target\":[False, True]\n",
    "}\n",
    "\n",
    "xgb_grid = {\n",
    "    \"xgb__gamma\":[0, 0.1, 1, 5],\n",
    "#    \"xgb__max_depth\":[5, 6, 8]\n",
    "}"
   ]
  },
  {
   "cell_type": "markdown",
   "metadata": {},
   "source": [
    "---"
   ]
  },
  {
   "cell_type": "code",
   "execution_count": 47,
   "metadata": {},
   "outputs": [],
   "source": [
    "drop_columns = ['dispnum', 'incidnum', 'y_duration', 'a_hiact']\n",
    "target = \"a_hiact\"\n",
    "\n",
    "X = prep.drop(columns=drop_columns)\n",
    "y = prep[target]\n",
    "\n",
    "a_rdg_true, a_rdg_preds = autogrid(X, y, PCA_RidgePipe, model_grid=ridge_grid, estimator_grid=pca_grid, min_bound=0.0, max_bound=21.0)"
   ]
  },
  {
   "cell_type": "code",
   "execution_count": 48,
   "metadata": {},
   "outputs": [],
   "source": [
    "drop_columns = ['dispnum', 'incidnum', 'y_duration', 'b_hiact']\n",
    "target = \"b_hiact\"\n",
    "\n",
    "X = prep.drop(columns=drop_columns)\n",
    "y = prep[target]\n",
    "\n",
    "b_rdg_true, b_rdg_preds = autogrid(X, y, PCA_RidgePipe, model_grid=ridge_grid, estimator_grid=pca_grid, min_bound=0.0, max_bound=21.0)"
   ]
  },
  {
   "cell_type": "code",
   "execution_count": 49,
   "metadata": {},
   "outputs": [
    {
     "name": "stdout",
     "output_type": "stream",
     "text": [
      "MAE a_hiact:  0.8363988383349468\n",
      "ACC a_hiact:  41.9%\n",
      "MAE b_hiact:  0.3707647628267183\n",
      "ACC b_hiact:  74.2%\n"
     ]
    }
   ],
   "source": [
    "a_rdg_preds = make_whole(a_rdg_preds)\n",
    "b_rdg_preds = make_whole(b_rdg_preds)\n",
    "\n",
    "print(f'MAE a_hiact:  {mean_absolute_error(y_true=a_rdg_true, y_pred=a_rdg_preds)}')\n",
    "print(f'ACC a_hiact:  {round(accuracy_score(y_true=a_rdg_true, y_pred=a_rdg_preds), 3)*100}%')\n",
    "print(f'MAE b_hiact:  {mean_absolute_error(y_true=b_rdg_true, y_pred=b_rdg_preds)}')\n",
    "print(f'ACC b_hiact:  {round(accuracy_score(y_true=b_rdg_true, y_pred=b_rdg_preds), 3)*100}%')"
   ]
  },
  {
   "cell_type": "markdown",
   "metadata": {},
   "source": [
    "---"
   ]
  },
  {
   "cell_type": "code",
   "execution_count": 50,
   "metadata": {},
   "outputs": [],
   "source": [
    "drop_columns = ['dispnum', 'incidnum', 'y_duration', 'a_hiact']\n",
    "target = \"a_hiact\"\n",
    "\n",
    "X = prep.drop(columns=drop_columns)\n",
    "y = prep[target]\n",
    "\n",
    "a_xgb_true, a_xgb_preds = autogrid(X, y, PCA_XGBPipe, model_grid=xgb_grid, estimator_grid=pca_grid, min_bound=0.0, max_bound=21.0)"
   ]
  },
  {
   "cell_type": "code",
   "execution_count": 51,
   "metadata": {},
   "outputs": [],
   "source": [
    "drop_columns = ['dispnum', 'incidnum', 'y_duration', 'b_hiact']\n",
    "target = \"b_hiact\"\n",
    "\n",
    "X = prep.drop(columns=drop_columns)\n",
    "y = prep[target]\n",
    "\n",
    "b_xgb_true, b_xgb_preds = autogrid(X, y, PCA_XGBPipe, model_grid=xgb_grid, estimator_grid=pca_grid, min_bound=0.0, max_bound=21.0)"
   ]
  },
  {
   "cell_type": "code",
   "execution_count": 52,
   "metadata": {},
   "outputs": [
    {
     "name": "stdout",
     "output_type": "stream",
     "text": [
      "MAE a_hiact:  1.2032913843175217\n",
      "ACC a_hiact:  51.7%\n",
      "MAE b_hiact:  0.9912875121006777\n",
      "ACC b_hiact:  70.1%\n"
     ]
    }
   ],
   "source": [
    "a_xgb_preds = make_whole(a_xgb_preds)\n",
    "b_xgb_preds = make_whole(b_xgb_preds)\n",
    "\n",
    "print(f'MAE a_hiact:  {mean_absolute_error(y_true=a_xgb_true, y_pred=a_xgb_preds)}')\n",
    "print(f'ACC a_hiact:  {round(accuracy_score(y_true=a_xgb_true, y_pred=a_xgb_preds), 3)*100}%')\n",
    "print(f'MAE b_hiact:  {mean_absolute_error(y_true=b_xgb_true, y_pred=b_xgb_preds)}')\n",
    "print(f'ACC b_hiact:  {round(accuracy_score(y_true=b_xgb_true, y_pred=b_xgb_preds), 3)*100}%')"
   ]
  },
  {
   "cell_type": "markdown",
   "metadata": {},
   "source": [
    "---\n",
    "---\n",
    "\n",
    "### DBScan Modelling"
   ]
  },
  {
   "cell_type": "code",
   "execution_count": 53,
   "metadata": {},
   "outputs": [
    {
     "data": {
      "text/plain": [
       "Index(['dispnum', 'incidnum', 'y_duration', 'year', 'a_country',\n",
       "       'a_rev_territory', 'a_rev_policy', 'a_rev_regime', 'a_rev_other',\n",
       "       'a_fatalities', 'a_hiact', 'a_hostlev', 'a_coalition', 'b_country',\n",
       "       'b_rev_territory', 'b_rev_policy', 'b_rev_regime', 'b_rev_other',\n",
       "       'b_fatalities', 'b_hiact', 'b_hostlev'],\n",
       "      dtype='object')"
      ]
     },
     "execution_count": 53,
     "metadata": {},
     "output_type": "execute_result"
    }
   ],
   "source": [
    "df.columns"
   ]
  },
  {
   "cell_type": "code",
   "execution_count": 54,
   "metadata": {},
   "outputs": [
    {
     "data": {
      "text/plain": [
       "{-1, 0, 1, 2, 3, 4, 5, 6, 7}"
      ]
     },
     "execution_count": 54,
     "metadata": {},
     "output_type": "execute_result"
    }
   ],
   "source": [
    "dbscan_drops = ['dispnum', 'incidnum', 'a_country', 'b_country',]\n",
    "\n",
    "\n",
    "X_scaled = StandardScaler().fit_transform(df.drop(columns=dbscan_drops))\n",
    "\n",
    "dbscan = DBSCAN(eps=3.2, min_samples=4)\n",
    "dbscan.fit(X_scaled)\n",
    "set(dbscan.labels_)"
   ]
  },
  {
   "cell_type": "code",
   "execution_count": 55,
   "metadata": {},
   "outputs": [
    {
     "data": {
      "text/plain": [
       "0.47900503487897406"
      ]
     },
     "execution_count": 55,
     "metadata": {},
     "output_type": "execute_result"
    }
   ],
   "source": [
    "silhouette_score(X_scaled, dbscan.labels_)"
   ]
  },
  {
   "cell_type": "code",
   "execution_count": 56,
   "metadata": {},
   "outputs": [
    {
     "data": {
      "text/plain": [
       " 0    3913\n",
       " 2      76\n",
       " 4      45\n",
       "-1      31\n",
       " 3      27\n",
       " 5      15\n",
       " 1      15\n",
       " 7       4\n",
       " 6       4\n",
       "Name: cluster, dtype: int64"
      ]
     },
     "execution_count": 56,
     "metadata": {},
     "output_type": "execute_result"
    }
   ],
   "source": [
    "df['cluster'] = dbscan.labels_\n",
    "df['cluster'].value_counts()"
   ]
  },
  {
   "cell_type": "code",
   "execution_count": 57,
   "metadata": {},
   "outputs": [
    {
     "data": {
      "text/html": [
       "<div>\n",
       "<style scoped>\n",
       "    .dataframe tbody tr th:only-of-type {\n",
       "        vertical-align: middle;\n",
       "    }\n",
       "\n",
       "    .dataframe tbody tr th {\n",
       "        vertical-align: top;\n",
       "    }\n",
       "\n",
       "    .dataframe thead th {\n",
       "        text-align: right;\n",
       "    }\n",
       "</style>\n",
       "<table border=\"1\" class=\"dataframe\">\n",
       "  <thead>\n",
       "    <tr style=\"text-align: right;\">\n",
       "      <th>cluster</th>\n",
       "      <th>-1</th>\n",
       "      <th>0</th>\n",
       "      <th>1</th>\n",
       "      <th>2</th>\n",
       "      <th>3</th>\n",
       "      <th>4</th>\n",
       "      <th>5</th>\n",
       "      <th>6</th>\n",
       "    </tr>\n",
       "  </thead>\n",
       "  <tbody>\n",
       "    <tr>\n",
       "      <th>dispnum</th>\n",
       "      <td>4.399903e+03</td>\n",
       "      <td>4.362677e+03</td>\n",
       "      <td>4.048667e+03</td>\n",
       "      <td>4.148039e+03</td>\n",
       "      <td>4.119852e+03</td>\n",
       "      <td>4.275444e+03</td>\n",
       "      <td>4.242200e+03</td>\n",
       "      <td>4479.00</td>\n",
       "    </tr>\n",
       "    <tr>\n",
       "      <th>incidnum</th>\n",
       "      <td>4.399928e+06</td>\n",
       "      <td>4.362730e+06</td>\n",
       "      <td>4.048672e+06</td>\n",
       "      <td>4.148047e+06</td>\n",
       "      <td>4.119865e+06</td>\n",
       "      <td>4.275454e+06</td>\n",
       "      <td>4.242211e+06</td>\n",
       "      <td>4479065.75</td>\n",
       "    </tr>\n",
       "    <tr>\n",
       "      <th>y_duration</th>\n",
       "      <td>2.662581e+02</td>\n",
       "      <td>3.449783e+00</td>\n",
       "      <td>1.266667e+00</td>\n",
       "      <td>1.750000e+00</td>\n",
       "      <td>4.703704e+00</td>\n",
       "      <td>6.533333e+00</td>\n",
       "      <td>3.533333e+00</td>\n",
       "      <td>107.00</td>\n",
       "    </tr>\n",
       "    <tr>\n",
       "      <th>year</th>\n",
       "      <td>2.004258e+03</td>\n",
       "      <td>2.004087e+03</td>\n",
       "      <td>1.996600e+03</td>\n",
       "      <td>1.997158e+03</td>\n",
       "      <td>1.997185e+03</td>\n",
       "      <td>2.001111e+03</td>\n",
       "      <td>1.997267e+03</td>\n",
       "      <td>2005.75</td>\n",
       "    </tr>\n",
       "    <tr>\n",
       "      <th>a_rev_territory</th>\n",
       "      <td>6.451613e-02</td>\n",
       "      <td>2.811142e-01</td>\n",
       "      <td>0.000000e+00</td>\n",
       "      <td>1.315789e-02</td>\n",
       "      <td>0.000000e+00</td>\n",
       "      <td>0.000000e+00</td>\n",
       "      <td>0.000000e+00</td>\n",
       "      <td>0.00</td>\n",
       "    </tr>\n",
       "    <tr>\n",
       "      <th>a_rev_policy</th>\n",
       "      <td>4.838710e-01</td>\n",
       "      <td>5.849732e-01</td>\n",
       "      <td>0.000000e+00</td>\n",
       "      <td>1.184211e-01</td>\n",
       "      <td>0.000000e+00</td>\n",
       "      <td>2.888889e-01</td>\n",
       "      <td>0.000000e+00</td>\n",
       "      <td>0.50</td>\n",
       "    </tr>\n",
       "    <tr>\n",
       "      <th>a_rev_regime</th>\n",
       "      <td>2.903226e-01</td>\n",
       "      <td>0.000000e+00</td>\n",
       "      <td>0.000000e+00</td>\n",
       "      <td>0.000000e+00</td>\n",
       "      <td>0.000000e+00</td>\n",
       "      <td>1.000000e+00</td>\n",
       "      <td>1.000000e+00</td>\n",
       "      <td>1.00</td>\n",
       "    </tr>\n",
       "    <tr>\n",
       "      <th>a_rev_other</th>\n",
       "      <td>6.451613e-02</td>\n",
       "      <td>0.000000e+00</td>\n",
       "      <td>1.000000e+00</td>\n",
       "      <td>1.000000e+00</td>\n",
       "      <td>0.000000e+00</td>\n",
       "      <td>0.000000e+00</td>\n",
       "      <td>0.000000e+00</td>\n",
       "      <td>0.00</td>\n",
       "    </tr>\n",
       "    <tr>\n",
       "      <th>a_fatalities</th>\n",
       "      <td>0.000000e+00</td>\n",
       "      <td>0.000000e+00</td>\n",
       "      <td>0.000000e+00</td>\n",
       "      <td>0.000000e+00</td>\n",
       "      <td>0.000000e+00</td>\n",
       "      <td>0.000000e+00</td>\n",
       "      <td>0.000000e+00</td>\n",
       "      <td>0.00</td>\n",
       "    </tr>\n",
       "    <tr>\n",
       "      <th>a_hiact</th>\n",
       "      <td>1.232258e+01</td>\n",
       "      <td>9.674163e+00</td>\n",
       "      <td>1.700000e+01</td>\n",
       "      <td>1.115789e+01</td>\n",
       "      <td>0.000000e+00</td>\n",
       "      <td>1.088889e+01</td>\n",
       "      <td>1.700000e+01</td>\n",
       "      <td>9.25</td>\n",
       "    </tr>\n",
       "    <tr>\n",
       "      <th>a_hostlev</th>\n",
       "      <td>3.483871e+00</td>\n",
       "      <td>2.929210e+00</td>\n",
       "      <td>4.000000e+00</td>\n",
       "      <td>3.302632e+00</td>\n",
       "      <td>1.000000e+00</td>\n",
       "      <td>3.377778e+00</td>\n",
       "      <td>4.000000e+00</td>\n",
       "      <td>3.25</td>\n",
       "    </tr>\n",
       "    <tr>\n",
       "      <th>a_coalition</th>\n",
       "      <td>2.419355e+00</td>\n",
       "      <td>1.334015e-01</td>\n",
       "      <td>1.333333e-01</td>\n",
       "      <td>5.263158e-02</td>\n",
       "      <td>0.000000e+00</td>\n",
       "      <td>1.555556e-01</td>\n",
       "      <td>0.000000e+00</td>\n",
       "      <td>8.50</td>\n",
       "    </tr>\n",
       "    <tr>\n",
       "      <th>b_rev_territory</th>\n",
       "      <td>6.451613e-02</td>\n",
       "      <td>1.909021e-01</td>\n",
       "      <td>0.000000e+00</td>\n",
       "      <td>0.000000e+00</td>\n",
       "      <td>0.000000e+00</td>\n",
       "      <td>0.000000e+00</td>\n",
       "      <td>0.000000e+00</td>\n",
       "      <td>0.00</td>\n",
       "    </tr>\n",
       "    <tr>\n",
       "      <th>b_rev_policy</th>\n",
       "      <td>2.258065e-01</td>\n",
       "      <td>2.703808e-01</td>\n",
       "      <td>0.000000e+00</td>\n",
       "      <td>0.000000e+00</td>\n",
       "      <td>1.851852e-01</td>\n",
       "      <td>0.000000e+00</td>\n",
       "      <td>0.000000e+00</td>\n",
       "      <td>0.00</td>\n",
       "    </tr>\n",
       "    <tr>\n",
       "      <th>b_rev_regime</th>\n",
       "      <td>1.935484e-01</td>\n",
       "      <td>0.000000e+00</td>\n",
       "      <td>0.000000e+00</td>\n",
       "      <td>0.000000e+00</td>\n",
       "      <td>0.000000e+00</td>\n",
       "      <td>0.000000e+00</td>\n",
       "      <td>1.000000e+00</td>\n",
       "      <td>0.00</td>\n",
       "    </tr>\n",
       "    <tr>\n",
       "      <th>b_rev_other</th>\n",
       "      <td>1.935484e-01</td>\n",
       "      <td>0.000000e+00</td>\n",
       "      <td>1.000000e+00</td>\n",
       "      <td>0.000000e+00</td>\n",
       "      <td>1.000000e+00</td>\n",
       "      <td>0.000000e+00</td>\n",
       "      <td>0.000000e+00</td>\n",
       "      <td>0.00</td>\n",
       "    </tr>\n",
       "    <tr>\n",
       "      <th>b_fatalities</th>\n",
       "      <td>0.000000e+00</td>\n",
       "      <td>0.000000e+00</td>\n",
       "      <td>0.000000e+00</td>\n",
       "      <td>0.000000e+00</td>\n",
       "      <td>0.000000e+00</td>\n",
       "      <td>0.000000e+00</td>\n",
       "      <td>0.000000e+00</td>\n",
       "      <td>0.00</td>\n",
       "    </tr>\n",
       "    <tr>\n",
       "      <th>b_hiact</th>\n",
       "      <td>6.354839e+00</td>\n",
       "      <td>4.784309e+00</td>\n",
       "      <td>1.700000e+01</td>\n",
       "      <td>0.000000e+00</td>\n",
       "      <td>1.059259e+01</td>\n",
       "      <td>2.111111e+00</td>\n",
       "      <td>1.700000e+01</td>\n",
       "      <td>0.00</td>\n",
       "    </tr>\n",
       "    <tr>\n",
       "      <th>b_hostlev</th>\n",
       "      <td>2.193548e+00</td>\n",
       "      <td>1.944288e+00</td>\n",
       "      <td>4.000000e+00</td>\n",
       "      <td>1.000000e+00</td>\n",
       "      <td>3.296296e+00</td>\n",
       "      <td>1.377778e+00</td>\n",
       "      <td>4.000000e+00</td>\n",
       "      <td>1.00</td>\n",
       "    </tr>\n",
       "  </tbody>\n",
       "</table>\n",
       "</div>"
      ],
      "text/plain": [
       "cluster                    -1             0             1             2  \\\n",
       "dispnum          4.399903e+03  4.362677e+03  4.048667e+03  4.148039e+03   \n",
       "incidnum         4.399928e+06  4.362730e+06  4.048672e+06  4.148047e+06   \n",
       "y_duration       2.662581e+02  3.449783e+00  1.266667e+00  1.750000e+00   \n",
       "year             2.004258e+03  2.004087e+03  1.996600e+03  1.997158e+03   \n",
       "a_rev_territory  6.451613e-02  2.811142e-01  0.000000e+00  1.315789e-02   \n",
       "a_rev_policy     4.838710e-01  5.849732e-01  0.000000e+00  1.184211e-01   \n",
       "a_rev_regime     2.903226e-01  0.000000e+00  0.000000e+00  0.000000e+00   \n",
       "a_rev_other      6.451613e-02  0.000000e+00  1.000000e+00  1.000000e+00   \n",
       "a_fatalities     0.000000e+00  0.000000e+00  0.000000e+00  0.000000e+00   \n",
       "a_hiact          1.232258e+01  9.674163e+00  1.700000e+01  1.115789e+01   \n",
       "a_hostlev        3.483871e+00  2.929210e+00  4.000000e+00  3.302632e+00   \n",
       "a_coalition      2.419355e+00  1.334015e-01  1.333333e-01  5.263158e-02   \n",
       "b_rev_territory  6.451613e-02  1.909021e-01  0.000000e+00  0.000000e+00   \n",
       "b_rev_policy     2.258065e-01  2.703808e-01  0.000000e+00  0.000000e+00   \n",
       "b_rev_regime     1.935484e-01  0.000000e+00  0.000000e+00  0.000000e+00   \n",
       "b_rev_other      1.935484e-01  0.000000e+00  1.000000e+00  0.000000e+00   \n",
       "b_fatalities     0.000000e+00  0.000000e+00  0.000000e+00  0.000000e+00   \n",
       "b_hiact          6.354839e+00  4.784309e+00  1.700000e+01  0.000000e+00   \n",
       "b_hostlev        2.193548e+00  1.944288e+00  4.000000e+00  1.000000e+00   \n",
       "\n",
       "cluster                     3             4             5           6  \n",
       "dispnum          4.119852e+03  4.275444e+03  4.242200e+03     4479.00  \n",
       "incidnum         4.119865e+06  4.275454e+06  4.242211e+06  4479065.75  \n",
       "y_duration       4.703704e+00  6.533333e+00  3.533333e+00      107.00  \n",
       "year             1.997185e+03  2.001111e+03  1.997267e+03     2005.75  \n",
       "a_rev_territory  0.000000e+00  0.000000e+00  0.000000e+00        0.00  \n",
       "a_rev_policy     0.000000e+00  2.888889e-01  0.000000e+00        0.50  \n",
       "a_rev_regime     0.000000e+00  1.000000e+00  1.000000e+00        1.00  \n",
       "a_rev_other      0.000000e+00  0.000000e+00  0.000000e+00        0.00  \n",
       "a_fatalities     0.000000e+00  0.000000e+00  0.000000e+00        0.00  \n",
       "a_hiact          0.000000e+00  1.088889e+01  1.700000e+01        9.25  \n",
       "a_hostlev        1.000000e+00  3.377778e+00  4.000000e+00        3.25  \n",
       "a_coalition      0.000000e+00  1.555556e-01  0.000000e+00        8.50  \n",
       "b_rev_territory  0.000000e+00  0.000000e+00  0.000000e+00        0.00  \n",
       "b_rev_policy     1.851852e-01  0.000000e+00  0.000000e+00        0.00  \n",
       "b_rev_regime     0.000000e+00  0.000000e+00  1.000000e+00        0.00  \n",
       "b_rev_other      1.000000e+00  0.000000e+00  0.000000e+00        0.00  \n",
       "b_fatalities     0.000000e+00  0.000000e+00  0.000000e+00        0.00  \n",
       "b_hiact          1.059259e+01  2.111111e+00  1.700000e+01        0.00  \n",
       "b_hostlev        3.296296e+00  1.377778e+00  4.000000e+00        1.00  "
      ]
     },
     "execution_count": 57,
     "metadata": {},
     "output_type": "execute_result"
    }
   ],
   "source": [
    "df.groupby('cluster').mean().T[[-1, 0, 1, 2, 3, 4, 5, 6]]"
   ]
  },
  {
   "cell_type": "code",
   "execution_count": null,
   "metadata": {},
   "outputs": [],
   "source": []
  },
  {
   "cell_type": "code",
   "execution_count": null,
   "metadata": {},
   "outputs": [],
   "source": []
  }
 ],
 "metadata": {
  "kernelspec": {
   "display_name": "Python 3",
   "language": "python",
   "name": "python3"
  },
  "language_info": {
   "codemirror_mode": {
    "name": "ipython",
    "version": 3
   },
   "file_extension": ".py",
   "mimetype": "text/x-python",
   "name": "python",
   "nbconvert_exporter": "python",
   "pygments_lexer": "ipython3",
   "version": "3.7.6"
  }
 },
 "nbformat": 4,
 "nbformat_minor": 4
}
