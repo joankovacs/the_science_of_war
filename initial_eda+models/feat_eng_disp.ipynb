{
 "cells": [
  {
   "cell_type": "code",
   "execution_count": 1,
   "metadata": {},
   "outputs": [],
   "source": [
    "import numpy as np\n",
    "import pandas as pd"
   ]
  },
  {
   "cell_type": "code",
   "execution_count": 2,
   "metadata": {},
   "outputs": [],
   "source": [
    "mida = pd.read_csv(\"../correlates_data/MIDA 5.0.csv\") #One record per dispute\n",
    "midb = pd.read_csv(\"../correlates_data/MIDB 5.0.csv\") #One record per participant per dispute"
   ]
  },
  {
   "cell_type": "code",
   "execution_count": 3,
   "metadata": {},
   "outputs": [],
   "source": [
    "#Curtails data to only MIDs that occur on or after 1993.  Incidents were only recorded post-1993.\n",
    "mida = mida[mida[\"dispnum\"]>3550]\n",
    "midb = midb[midb[\"dispnum\"]>3550]\n",
    "\n",
    "#reset index for dataframe folding\n",
    "mida = mida.reset_index(drop=True)\n",
    "midb = midb.reset_index(drop=True)"
   ]
  },
  {
   "cell_type": "markdown",
   "metadata": {},
   "source": [
    "---\n",
    "POST-1993 DATASETS\n",
    "1. MIDA shape: (847, 20)\n",
    "2. MIDB shape: (2074, 19)\n",
    "---\n",
    "**Objective:**\n",
    "\n",
    "The object of this project is to predict attributes (duration or highest military action) of a dispute.  Therefore, the attributes of MIDB must be collapsed into MIDA so that a model can be created.  Create a dataframe that records attributes from both sides of each conflict.\n",
    "\n",
    "1. Unknown values are stored as -9 within the dataset.  Populate these with `np.nan` so they can be handled properly.\n",
    "2. Declare an empty dataframe containing the features desired for predictions.\n",
    "3. Populate the empty dataframe using values from MIDA and MIDB.\n",
    "4. Save the new dataframe as a csv file for modelling in another notebook."
   ]
  },
  {
   "cell_type": "code",
   "execution_count": 4,
   "metadata": {},
   "outputs": [],
   "source": [
    "def populate_nines(df, nans, unknowns):\n",
    "    #expects nans to be a list of columns whose unknown values are going to be replaced with np.nan\n",
    "    #expects unknowns to be a dictionary of column name: column replacement value for -9 (can vary by column)\n",
    "    for col in nans:\n",
    "        df[col] = df[col].replace(-9, np.nan)\n",
    "    for col, value in unknowns.items():\n",
    "        df[col] = df[col].replace(-9, value)\n",
    "    \n",
    "    return df"
   ]
  },
  {
   "cell_type": "code",
   "execution_count": 5,
   "metadata": {},
   "outputs": [],
   "source": [
    "mida_nans = [\"stday\", \"endday\", \"fatality\", \"fatalpre\"]\n",
    "mida_unknowns = {\"outcome\":8, \"settle\":4, }\n",
    "\n",
    "midb_nans = [\"stday\", \"endday\", \"fatality\", \"fatalpre\"]\n",
    "midb_unknowns = {\"revtype1\":0, \"revtype2\":0}"
   ]
  },
  {
   "cell_type": "code",
   "execution_count": 6,
   "metadata": {},
   "outputs": [],
   "source": [
    "mida=populate_nines(mida, mida_nans, mida_unknowns)\n",
    "midb=populate_nines(midb, midb_nans, midb_unknowns)"
   ]
  },
  {
   "cell_type": "markdown",
   "metadata": {},
   "source": [
    "---\n",
    "---"
   ]
  },
  {
   "cell_type": "code",
   "execution_count": 7,
   "metadata": {},
   "outputs": [],
   "source": [
    "new_features = [\n",
    "    #Universal features\n",
    "    \"dispnum\",\n",
    "    \"y_avgdur\",          #maxdur+mindur/2\n",
    "    \"year\",              #year of initiation (styear)\n",
    "    \"outcome\",           #Object value regarding the outcome\n",
    "    \"settle\",            #What type of settlement it was\n",
    "    \"recip\",             #Whether the dispute was reciprocated\n",
    "    #Side A features\n",
    "    \"a_country\",         #Primary side A nation (if only one, or one engaged prior to allies; otherwise \"coalition\")\n",
    "    \"a_rev_territory\",   #bin value: revisionism vis a vis 'territory'\n",
    "    \"a_rev_policy\",      #bin value: revisionism vis a vis 'policy'\n",
    "    \"a_rev_regime\",      #bin value: revisionism vis a vis 'regime'\n",
    "    \"a_rev_other\",       #bin value: revisionism for any other\n",
    "    \"a_fatalities\",      #fatalities for side a\n",
    "    \"a_hiact\",           #highest level of action by side a\n",
    "    \"a_hostlev\",         #highest hostility level by side a\n",
    "    \"a_orig\",            #whether side a was the originator of the conflict\n",
    "    \"a_coalition\",       #number of states engaged in conflict past the first (usually 0)\n",
    "    #Side B features\n",
    "    \"b_country\",\n",
    "    \"b_rev_territory\",\n",
    "    \"b_rev_policy\",\n",
    "    \"b_rev_regime\",\n",
    "    \"b_rev_other\",\n",
    "    \"b_fatalities\",\n",
    "    \"b_hiact\",\n",
    "    \"b_hostlev\",\n",
    "    \"b_orig\",\n",
    "    \"b_coalition\"\n",
    "]\n",
    "\n",
    "df = pd.DataFrame(columns=new_features)"
   ]
  },
  {
   "cell_type": "code",
   "execution_count": 8,
   "metadata": {},
   "outputs": [],
   "source": [
    "#Universal assignments (from MIDA)\n",
    "\n",
    "df[\"dispnum\"] = mida[\"dispnum\"]\n",
    "df[\"y_avgdur\"] = (mida[\"maxdur\"] + mida[\"mindur\"]) / 2\n",
    "df[\"year\"] = mida[\"styear\"]\n",
    "df[\"outcome\"] = mida[\"outcome\"]\n",
    "df[\"settle\"] = mida[\"settle\"]\n",
    "df[\"recip\"] = mida[\"recip\"]"
   ]
  },
  {
   "cell_type": "code",
   "execution_count": 9,
   "metadata": {},
   "outputs": [],
   "source": [
    "df = df.reset_index(drop=True)"
   ]
  },
  {
   "cell_type": "markdown",
   "metadata": {},
   "source": [
    "---\n",
    "### Basic functions for handling folding MIDB data into the new dataframe"
   ]
  },
  {
   "cell_type": "code",
   "execution_count": 10,
   "metadata": {},
   "outputs": [],
   "source": [
    "#general functions for getting slices and values from a dataframe\n",
    "\n",
    "def slice_midb_by_dispnum(dispnum):\n",
    "    return midb[midb[\"dispnum\"]==dispnum]\n",
    "\n",
    "\n",
    "def fetch_value(subdf, val, side=True):\n",
    "    if side:\n",
    "        a = subdf[subdf[\"sidea\"]==1]\n",
    "        return a[val]\n",
    "    else:\n",
    "        b = subdf[subdf[\"sidea\"]==0]\n",
    "        return b[val]"
   ]
  },
  {
   "cell_type": "code",
   "execution_count": 11,
   "metadata": {},
   "outputs": [],
   "source": [
    "#Functions for specific features\n",
    "\n",
    "def side_breakdown_num_check(dispnum):\n",
    "    #gets the number of participants in side A or side B, returned as a tuple\n",
    "    temp_df = midb[midb[\"dispnum\"]==dispnum]\n",
    "    return (\n",
    "        #Returns a tuple of side a and side b\n",
    "        len(temp_df[temp_df[\"sidea\"]==1]),\n",
    "        len(temp_df[temp_df[\"sidea\"]==0])\n",
    "    )\n",
    "\n",
    "\n",
    "def sum_fatality_ordinals(*fatality_levels):\n",
    "    #takes an arbitrary number of fatality ordinals for a given \"side\" of the conflict (a or b) and returns the ordinal that corresponds to the added value\n",
    "    ordinal_translation = {0:0, 1:10, 2:50, 3:150, 4:350, 5:750, 6:1000}\n",
    "    ordinal_range_array = {0:range(0, 1), 1:range(1, 26), 2:range(26, 101), 3:range(101, 251), 4:range(251, 501), 5:range(501, 1000), 6:range(1000, 100_000)}\n",
    "    fatalities_array = []\n",
    "\n",
    "    for i in fatality_levels:\n",
    "        for key, value in ordinal_translation.items():\n",
    "            if i==key:\n",
    "                fatalities_array.append(value)\n",
    "    \n",
    "    sum_fatalities = sum(fatalities_array)\n",
    "    \n",
    "    for key, value in ordinal_range_array.items():\n",
    "        if sum_fatalities in value:\n",
    "            return key"
   ]
  },
  {
   "cell_type": "markdown",
   "metadata": {},
   "source": [
    "---\n",
    "---\n",
    "Assignations of values to the new model dataframe.\n",
    "---\n",
    "---"
   ]
  },
  {
   "cell_type": "code",
   "execution_count": 12,
   "metadata": {},
   "outputs": [],
   "source": [
    "#This cell assigns the ccode of conflicts.  Where there were more than one partipant, \"coalition\" is encoded.\n",
    "\n",
    "for i in range(len(df)):\n",
    "    dispnum = df.loc[i][\"dispnum\"]\n",
    "    \n",
    "    if side_breakdown_num_check(dispnum)[0] == 1:\n",
    "        df.at[i, \"a_country\"] = int(fetch_value(slice_midb_by_dispnum(dispnum), \"ccode\"))\n",
    "    else:  df.at[i, \"a_country\"] = \"coalition\"\n",
    "        \n",
    "    if side_breakdown_num_check(dispnum)[1] == 1:\n",
    "        df.at[i, \"b_country\"] = int(fetch_value(slice_midb_by_dispnum(dispnum), \"ccode\", False))\n",
    "    else:  df.at[i, \"b_country\"] = \"coalition\""
   ]
  },
  {
   "cell_type": "markdown",
   "metadata": {},
   "source": [
    "---\n",
    "---"
   ]
  },
  {
   "cell_type": "code",
   "execution_count": 13,
   "metadata": {},
   "outputs": [],
   "source": [
    "#This cell populates revisionism status. \n",
    "#Notes on methodology: a quick review of the lists of all revtypes grouped by side, by dispute number showed that there were very few \"mixed cases\"; e.i. \n",
    "#if multiple states were on the same side of the conflict they were overwhelmingly likely to have the same revisionist goals.  In addition, amongst the mixed cases\n",
    "#(of which there were less than half a dozen across the whole dataset), the only occurences were NUM + 0: e.i., there were allies with revisionist goals and allies\n",
    "#with no revisionist goals.  This means that there was never a dispute where the revisionist goals were separate from each other between allies.\n",
    "#Therefore, I considered it acceptable to get the \"max\" of a side when retrieiving a list of revisionist goals, because that was the only incidence of revisionism\n",
    "#present on that side, and the side is then accurately represented in the dataframe with how revisionism is encoded.\n",
    "\n",
    "\n",
    "a_rev_dict = {1:\"a_rev_territory\", 2:\"a_rev_policy\", 3:\"a_rev_regime\", 4:\"a_rev_other\"}\n",
    "b_rev_dict = {1:\"b_rev_territory\", 2:\"b_rev_policy\", 3:\"b_rev_regime\", 4:\"b_rev_other\"}\n",
    "\n",
    "\n",
    "for i in range(len(df)):\n",
    "    dispnum = df.loc[i][\"dispnum\"]\n",
    "    \n",
    "    #population of a_country revtypes\n",
    "    revision1 = int(max(list(fetch_value(slice_midb_by_dispnum(dispnum), \"revtype1\"))))\n",
    "    revision2 = int(max(list(fetch_value(slice_midb_by_dispnum(dispnum), \"revtype2\"))))\n",
    "\n",
    "    for key, rev_type in a_rev_dict.items():\n",
    "        if (key==revision1) or (key==revision2):\n",
    "            df.at[i, rev_type] = 1\n",
    "        else:\n",
    "            df.at[i, rev_type] = 0\n",
    "\n",
    "\n",
    "    #population of b_country revtypes        \n",
    "    revision1 = int(max(list(fetch_value(slice_midb_by_dispnum(dispnum), \"revtype1\", False))))\n",
    "    revision2 = int(max(list(fetch_value(slice_midb_by_dispnum(dispnum), \"revtype2\", False))))\n",
    "\n",
    "    for key, rev_type in b_rev_dict.items():\n",
    "        if (key==revision1) or (key==revision2):\n",
    "            df.at[i, rev_type] = 1\n",
    "        else:\n",
    "            df.at[i, rev_type] = 0"
   ]
  },
  {
   "cell_type": "markdown",
   "metadata": {},
   "source": [
    "---\n",
    "---"
   ]
  },
  {
   "cell_type": "code",
   "execution_count": 14,
   "metadata": {},
   "outputs": [],
   "source": [
    "#This cell assigns the hiact, hostility levels, and origination of conflicts\n",
    "\n",
    "for i in range(len(df)):\n",
    "    dispnum = df.loc[i][\"dispnum\"]\n",
    "    \n",
    "    df.at[i, \"a_hiact\"] = int(max(list(fetch_value(slice_midb_by_dispnum(dispnum), \"hiact\"))))\n",
    "    df.at[i, \"b_hiact\"] = int(max(list(fetch_value(slice_midb_by_dispnum(dispnum), \"hiact\", False))))\n",
    "\n",
    "    df.at[i, \"a_hostlev\"] = int(max(list(fetch_value(slice_midb_by_dispnum(dispnum), \"hostlev\"))))\n",
    "    df.at[i, \"b_hostlev\"] = int(max(list(fetch_value(slice_midb_by_dispnum(dispnum), \"hostlev\", False))))\n",
    "\n",
    "    df.at[i, \"a_orig\"] = int(max(list(fetch_value(slice_midb_by_dispnum(dispnum), \"orig\"))))\n",
    "    df.at[i, \"b_orig\"] = int(max(list(fetch_value(slice_midb_by_dispnum(dispnum), \"orig\", False))))        "
   ]
  },
  {
   "cell_type": "markdown",
   "metadata": {},
   "source": [
    "---\n",
    "---"
   ]
  },
  {
   "cell_type": "code",
   "execution_count": 15,
   "metadata": {},
   "outputs": [],
   "source": [
    "#This cell assigns the fatality level of conflicts\n",
    "\n",
    "for i in range(len(df)):\n",
    "    dispnum = df.loc[i][\"dispnum\"]\n",
    "    \n",
    "    try:\n",
    "        df.at[i, \"a_fatalities\"] = int(sum_fatality_ordinals(list(fetch_value(slice_midb_by_dispnum(dispnum), \"fatality\"))))\n",
    "    except ValueError:\n",
    "        pass #pass over assignation of NaN values so that the NaNs are retained without tripping the program\n",
    "\n",
    "    try:\n",
    "        df.at[i, \"b_fatalities\"] = int(sum_fatality_ordinals(list(fetch_value(slice_midb_by_dispnum(dispnum), \"fatality\", False))))\n",
    "    except ValueError:\n",
    "        pass #pass over assignation of NaN values so that the NaNs are retained without tripping the program"
   ]
  },
  {
   "cell_type": "markdown",
   "metadata": {},
   "source": [
    "---\n",
    "---"
   ]
  },
  {
   "cell_type": "code",
   "execution_count": 16,
   "metadata": {},
   "outputs": [],
   "source": [
    "#This cell sets coalition values for sides a & b\n",
    "\n",
    "for i in range(len(df)):    \n",
    "    df.at[i, \"a_coalition\"] = (mida.loc[i][\"numa\"]) -1\n",
    "    df.at[i, \"b_coalition\"] = (mida.loc[i][\"numb\"]) -1"
   ]
  },
  {
   "cell_type": "markdown",
   "metadata": {},
   "source": [
    "---\n",
    "---"
   ]
  },
  {
   "cell_type": "code",
   "execution_count": 17,
   "metadata": {},
   "outputs": [],
   "source": [
    "#Leftover issue with a number of numeric columns being interpreted as object\n",
    "tagged_for_numeric = ['a_rev_territory', 'a_rev_policy', 'a_rev_regime', 'a_rev_other', 'a_fatalities', 'a_hiact', 'a_hostlev', 'a_orig', 'a_coalition',\n",
    "                      'b_rev_territory', 'b_rev_policy', 'b_rev_regime', 'b_rev_other', 'b_fatalities', 'b_hiact', 'b_hostlev', 'b_orig', 'b_coalition',\n",
    "                     ]\n",
    "\n",
    "for feature in tagged_for_numeric:\n",
    "    df[feature] = pd.to_numeric(df[feature])"
   ]
  },
  {
   "cell_type": "code",
   "execution_count": 18,
   "metadata": {},
   "outputs": [
    {
     "name": "stdout",
     "output_type": "stream",
     "text": [
      "<class 'pandas.core.frame.DataFrame'>\n",
      "RangeIndex: 847 entries, 0 to 846\n",
      "Data columns (total 26 columns):\n",
      " #   Column           Non-Null Count  Dtype  \n",
      "---  ------           --------------  -----  \n",
      " 0   dispnum          847 non-null    int64  \n",
      " 1   y_avgdur         847 non-null    float64\n",
      " 2   year             847 non-null    int64  \n",
      " 3   outcome          847 non-null    int64  \n",
      " 4   settle           847 non-null    int64  \n",
      " 5   recip            847 non-null    int64  \n",
      " 6   a_country        847 non-null    object \n",
      " 7   a_rev_territory  847 non-null    int64  \n",
      " 8   a_rev_policy     847 non-null    int64  \n",
      " 9   a_rev_regime     847 non-null    int64  \n",
      " 10  a_rev_other      847 non-null    int64  \n",
      " 11  a_fatalities     847 non-null    int64  \n",
      " 12  a_hiact          847 non-null    int64  \n",
      " 13  a_hostlev        847 non-null    int64  \n",
      " 14  a_orig           847 non-null    int64  \n",
      " 15  a_coalition      847 non-null    float64\n",
      " 16  b_country        847 non-null    object \n",
      " 17  b_rev_territory  847 non-null    int64  \n",
      " 18  b_rev_policy     847 non-null    int64  \n",
      " 19  b_rev_regime     847 non-null    int64  \n",
      " 20  b_rev_other      847 non-null    int64  \n",
      " 21  b_fatalities     847 non-null    int64  \n",
      " 22  b_hiact          847 non-null    int64  \n",
      " 23  b_hostlev        847 non-null    int64  \n",
      " 24  b_orig           847 non-null    int64  \n",
      " 25  b_coalition      847 non-null    float64\n",
      "dtypes: float64(3), int64(21), object(2)\n",
      "memory usage: 172.2+ KB\n"
     ]
    }
   ],
   "source": [
    "df.info() #double check"
   ]
  },
  {
   "cell_type": "code",
   "execution_count": 20,
   "metadata": {},
   "outputs": [],
   "source": [
    "df.to_csv(\"../final_data/disputes.csv\", index=False)"
   ]
  }
 ],
 "metadata": {
  "kernelspec": {
   "display_name": "Python 3",
   "language": "python",
   "name": "python3"
  },
  "language_info": {
   "codemirror_mode": {
    "name": "ipython",
    "version": 3
   },
   "file_extension": ".py",
   "mimetype": "text/x-python",
   "name": "python",
   "nbconvert_exporter": "python",
   "pygments_lexer": "ipython3",
   "version": "3.7.6"
  }
 },
 "nbformat": 4,
 "nbformat_minor": 4
}
