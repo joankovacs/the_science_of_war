{
 "cells": [
  {
   "cell_type": "code",
   "execution_count": 1,
   "metadata": {},
   "outputs": [],
   "source": [
    "import numpy as np\n",
    "import pandas as pd"
   ]
  },
  {
   "cell_type": "code",
   "execution_count": 2,
   "metadata": {},
   "outputs": [],
   "source": [
    "midi = pd.read_csv(\"../correlates_data/MIDI 5.0.csv\") #One record per incident\n",
    "midip = pd.read_csv(\"../correlates_data/MIDIP 5.0.csv\") #One record per participant per incident"
   ]
  },
  {
   "cell_type": "markdown",
   "metadata": {},
   "source": [
    "---\n",
    "1. MIDI shape: (4483, 16)\n",
    "2. MIDIP shape: (9619, 19)\n",
    "---\n",
    "**Objective:**\n",
    "\n",
    "The object of this project is to predict attributes (duration or highest military action) of an incident.  Therefore, the attributes of MIDIP must be collapsed into MIDI so that a model can be created.  Create a dataframe that records attributes from both sides of each conflict.\n",
    "\n",
    "1. Unknown values are stored as -9 within the dataset.  Populate these with `np.nan` so they can be handled properly.\n",
    "2. Declare an empty dataframe containing the features desired for predictions.\n",
    "3. Populate the empty dataframe using values from MIDI and MIDIP.\n",
    "4. Save the new dataframe as a csv file for modelling in another notebook."
   ]
  },
  {
   "cell_type": "code",
   "execution_count": 3,
   "metadata": {},
   "outputs": [],
   "source": [
    "def populate_nines(df, nans, unknowns=None):\n",
    "    #expects nans to be a list of columns whose unknown values are going to be replaced with np.nan\n",
    "    #expects unknowns to be a dictionary of column name: column replacement value for -9 (can vary by column)\n",
    "    for col in nans:\n",
    "        df[col] = df[col].replace(-9, np.nan)\n",
    "    \n",
    "    if unknowns is not None:\n",
    "        for col, value in unknowns.items():\n",
    "            df[col] = df[col].replace(-9, value)\n",
    "\n",
    "    return df"
   ]
  },
  {
   "cell_type": "code",
   "execution_count": 4,
   "metadata": {},
   "outputs": [],
   "source": [
    "midi_nans = [\"stday\", \"endday\", \"fatality\", \"fatalpre\", \"duration\"]\n",
    "\n",
    "midip_nans = [\"stday\", \"endday\", \"fatality\", \"fatalpre\"]\n",
    "midip_unknowns = {\"revtype1\":0, \"revtype2\":0}"
   ]
  },
  {
   "cell_type": "code",
   "execution_count": 5,
   "metadata": {},
   "outputs": [],
   "source": [
    "midi=populate_nines(midi, midi_nans)\n",
    "midip=populate_nines(midip, midip_nans, midip_unknowns)"
   ]
  },
  {
   "cell_type": "markdown",
   "metadata": {},
   "source": [
    "---\n",
    "---"
   ]
  },
  {
   "cell_type": "code",
   "execution_count": 6,
   "metadata": {},
   "outputs": [],
   "source": [
    "new_features = [\n",
    "    #Universal features\n",
    "    \"dispnum\",\n",
    "    \"incidnum\",\n",
    "    \"y_duration\",        #maxdur+mindur/2\n",
    "    \"year\",              #year of initiation (styear)\n",
    "    #Side A features\n",
    "    \"a_country\",         #Primary side A nation (if only one, or one engaged prior to allies; otherwise \"coalition\")\n",
    "    \"a_rev_territory\",   #bin value: revisionism vis a vis 'territory'\n",
    "    \"a_rev_policy\",      #bin value: revisionism vis a vis 'policy'\n",
    "    \"a_rev_regime\",      #bin value: revisionism vis a vis 'regime'\n",
    "    \"a_rev_other\",       #bin value: revisionism for any other\n",
    "    \"a_fatalities\",      #fatalities for side a\n",
    "    \"a_hiact\",           #highest level of action by side a\n",
    "    \"a_hostlev\",         #highest hostility level by side a\n",
    "    \"a_coalition\",       #number of states engaged in conflict past the first (usually 0)\n",
    "    #Side B features\n",
    "    \"b_country\",\n",
    "    \"b_rev_territory\",\n",
    "    \"b_rev_policy\",\n",
    "    \"b_rev_regime\",\n",
    "    \"b_rev_other\",\n",
    "    \"b_fatalities\",\n",
    "    \"b_hiact\",\n",
    "    \"b_hostlev\",\n",
    "]\n",
    "\n",
    "df = pd.DataFrame(columns=new_features)"
   ]
  },
  {
   "cell_type": "code",
   "execution_count": 7,
   "metadata": {},
   "outputs": [],
   "source": [
    "#Universal assignments (from MIDI)\n",
    "\n",
    "df[\"dispnum\"] = midi[\"dispnum\"]\n",
    "df[\"incidnum\"] = midi[\"incidnum\"]\n",
    "df[\"y_duration\"] = midi[\"duration\"]\n",
    "df[\"year\"] = midi[\"styear\"]"
   ]
  },
  {
   "cell_type": "markdown",
   "metadata": {},
   "source": [
    "---\n",
    "---"
   ]
  },
  {
   "cell_type": "code",
   "execution_count": 8,
   "metadata": {},
   "outputs": [],
   "source": [
    "#general functions for getting slices and values from a dataframe\n",
    "\n",
    "def slice_midip_by_incidnum(incidnum):\n",
    "    return midip[midip[\"incidnum\"]==incidnum]\n",
    "\n",
    "\n",
    "def fetch_value(subdf, val, side=True):\n",
    "    if side:\n",
    "        fetched = subdf[subdf[\"sidea\"]==1]\n",
    "    else:\n",
    "        fetched = subdf[subdf[\"sidea\"]==0]\n",
    "    return fetched[val]"
   ]
  },
  {
   "cell_type": "code",
   "execution_count": 9,
   "metadata": {},
   "outputs": [],
   "source": [
    "#Functions for specific features\n",
    "\n",
    "def side_breakdown_num_check(incidnum):\n",
    "    #gets the number of participants in side A or side B, returned as a tuple\n",
    "    temp_df = midip[midip[\"incidnum\"]==incidnum]\n",
    "    return (\n",
    "        #Returns a tuple of side a and side b\n",
    "        len(temp_df[temp_df[\"sidea\"]==1]),\n",
    "        len(temp_df[temp_df[\"sidea\"]==0])\n",
    "    )\n",
    "\n",
    "\n",
    "def sum_fatality_ordinals(*fatality_levels):\n",
    "    #takes an arbitrary number of fatality ordinals for a given \"side\" of the conflict (a or b) and returns the ordinal that corresponds to the added value\n",
    "    ordinal_translation = {0:0, 1:10, 2:50, 3:150, 4:350, 5:750, 6:1000}\n",
    "    ordinal_range_array = {0:range(0, 1), 1:range(1, 26), 2:range(26, 101), 3:range(101, 251), 4:range(251, 501), 5:range(501, 1000), 6:range(1000, 100_000)}\n",
    "    fatalities_array = []\n",
    "\n",
    "    for i in fatality_levels:\n",
    "        for key, value in ordinal_translation.items():\n",
    "            if i==key:\n",
    "                fatalities_array.append(value)\n",
    "    \n",
    "    sum_fatalities = sum(fatalities_array)\n",
    "    \n",
    "    for key, value in ordinal_range_array.items():\n",
    "        if sum_fatalities in value:\n",
    "            return key"
   ]
  },
  {
   "cell_type": "markdown",
   "metadata": {},
   "source": [
    "---\n",
    "---\n",
    "Assignations of values to the new model dataframe.\n",
    "---\n",
    "---"
   ]
  },
  {
   "cell_type": "code",
   "execution_count": 10,
   "metadata": {},
   "outputs": [],
   "source": [
    "#This cell assigns the ccode of conflicts.  Where there were more than one partipant, \"coalition\" is encoded.\n",
    "\n",
    "for i in range(len(df)):\n",
    "    incidnum = df.loc[i][\"incidnum\"]\n",
    "    \n",
    "    if side_breakdown_num_check(incidnum)[0] == 1:\n",
    "        df.at[i, \"a_country\"] = int(fetch_value(slice_midip_by_incidnum(incidnum), \"ccode\"))\n",
    "    else:  df.at[i, \"a_country\"] = \"coalition\"\n",
    "        \n",
    "    if side_breakdown_num_check(incidnum)[1] == 1:\n",
    "        df.at[i, \"b_country\"] = int(fetch_value(slice_midip_by_incidnum(incidnum), \"ccode\", False))\n",
    "    else:  df.at[i, \"b_country\"] = \"coalition\""
   ]
  },
  {
   "cell_type": "code",
   "execution_count": 11,
   "metadata": {},
   "outputs": [],
   "source": [
    "#This cell populates revisionism status. \n",
    "a_rev_dict = {1:\"a_rev_territory\", 2:\"a_rev_policy\", 3:\"a_rev_regime\", 4:\"a_rev_other\"}\n",
    "b_rev_dict = {1:\"b_rev_territory\", 2:\"b_rev_policy\", 3:\"b_rev_regime\", 4:\"b_rev_other\"}\n",
    "\n",
    "\n",
    "for i in range(len(df)):\n",
    "    incidnum = df.loc[i][\"incidnum\"]\n",
    "    \n",
    "    #population of a_country revtypes\n",
    "    try:\n",
    "        revision1 = int(max(list(fetch_value(slice_midip_by_incidnum(incidnum), \"revtype1\"))))\n",
    "    except ValueError:  revision1 = 0\n",
    "        \n",
    "    try:\n",
    "        revision2 = int(max(list(fetch_value(slice_midip_by_incidnum(incidnum), \"revtype2\"))))\n",
    "    except ValueError:  revision2 = 0\n",
    "        \n",
    "    for key, rev_type in a_rev_dict.items():\n",
    "        if (key==revision1) or (key==revision2):\n",
    "            df.at[i, rev_type] = 1\n",
    "        else:\n",
    "            df.at[i, rev_type] = 0\n",
    "\n",
    "\n",
    "    #population of b_country revtypes\n",
    "    try:\n",
    "        revision1 = int(max(list(fetch_value(slice_midip_by_incidnum(incidnum), \"revtype1\", False))))\n",
    "    except ValueError:  revision1 = 0\n",
    "    \n",
    "    try:\n",
    "        revision2 = int(max(list(fetch_value(slice_midip_by_incidnum(incidnum), \"revtype2\", False))))\n",
    "    except ValueError:  revision2 = 0\n",
    "\n",
    "    for key, rev_type in b_rev_dict.items():\n",
    "        if (key==revision1) or (key==revision2):\n",
    "            df.at[i, rev_type] = 1\n",
    "        else:\n",
    "            df.at[i, rev_type] = 0"
   ]
  },
  {
   "cell_type": "code",
   "execution_count": 12,
   "metadata": {},
   "outputs": [],
   "source": [
    "#This cell assigns the hiact & hostility levels of conflicts\n",
    "\n",
    "for i in range(len(df)):\n",
    "    incidnum = df.loc[i][\"incidnum\"]\n",
    "    \n",
    "    try:\n",
    "        df.at[i, \"a_hiact\"] = int(max(list(fetch_value(slice_midip_by_incidnum(incidnum), \"action\"))))\n",
    "    except:  df.at[i, \"a_hiact\"] = np.nan\n",
    "    try:\n",
    "        df.at[i, \"b_hiact\"] = int(max(list(fetch_value(slice_midip_by_incidnum(incidnum), \"action\", False))))\n",
    "    except:  df.at[i, \"b_hiact\"] = np.nan\n",
    "\n",
    "    try:\n",
    "        df.at[i, \"a_hostlev\"] = int(max(list(fetch_value(slice_midip_by_incidnum(incidnum), \"hostlev\"))))\n",
    "    except:  df.at[i, \"a_hostlev\"] = np.nan\n",
    "    try:\n",
    "        df.at[i, \"b_hostlev\"] = int(max(list(fetch_value(slice_midip_by_incidnum(incidnum), \"hostlev\", False))))\n",
    "    except:  df.at[i, \"b_hostlev\"] = np.nan"
   ]
  },
  {
   "cell_type": "code",
   "execution_count": 13,
   "metadata": {},
   "outputs": [],
   "source": [
    "#This cell assigns the fatality level of conflicts\n",
    "\n",
    "for i in range(len(df)):\n",
    "    incidnum = df.loc[i][\"incidnum\"]\n",
    "    \n",
    "    try:\n",
    "        df.at[i, \"a_fatalities\"] = int(sum_fatality_ordinals(list(fetch_value(slice_midip_by_incidnum(incidnum), \"fatality\"))))\n",
    "    except ValueError:\n",
    "        pass #pass over assignation of NaN values so that the NaNs are retained without tripping the program\n",
    "\n",
    "    try:\n",
    "        df.at[i, \"b_fatalities\"] = int(sum_fatality_ordinals(list(fetch_value(slice_midip_by_incidnum(incidnum), \"fatality\", False))))\n",
    "    except ValueError:\n",
    "        pass #pass over assignation of NaN values so that the NaNs are retained without tripping the program"
   ]
  },
  {
   "cell_type": "code",
   "execution_count": 14,
   "metadata": {},
   "outputs": [],
   "source": [
    "#This cell sets coalition values for side a\n",
    "\n",
    "for i in range(len(df)):    \n",
    "    df.at[i, \"a_coalition\"] = (midi.loc[i][\"numa\"]) -1"
   ]
  },
  {
   "cell_type": "code",
   "execution_count": 15,
   "metadata": {},
   "outputs": [],
   "source": [
    "nadrops = [\"y_duration\", \"a_hiact\", \"a_hostlev\", \"b_hiact\", \"b_hostlev\"]\n",
    "df = df.dropna(axis=\"rows\", subset=nadrops)"
   ]
  },
  {
   "cell_type": "code",
   "execution_count": 17,
   "metadata": {},
   "outputs": [],
   "source": [
    "df.to_csv(\"../final_data/incidents.csv\", index=False)"
   ]
  },
  {
   "cell_type": "markdown",
   "metadata": {},
   "source": [
    "---\n",
    "---\n",
    "### Creation of alternate midip dataframe - for predicting highest action per state per conflict\n",
    "\n",
    "(rather than predicting highest action per side per conflict)"
   ]
  },
  {
   "cell_type": "code",
   "execution_count": 19,
   "metadata": {},
   "outputs": [],
   "source": [
    "midip = pd.read_csv(\"../correlates_data/MIDIP 5.0.csv\") #One record per participant per incident"
   ]
  },
  {
   "cell_type": "code",
   "execution_count": 20,
   "metadata": {},
   "outputs": [],
   "source": [
    "ip_drops = ['ccode', 'stday', 'stmon', 'endday', 'endmon', 'endyear', 'fatalpre', 'version', 'revtype1', 'revtype2']\n",
    "\n",
    "ip_renames = {'styear':'year', 'insidea':'incid_a', 'sidea':'side_a', 'stabb':'ccode'}\n",
    "\n",
    "ip_column_adds = [\"rev_territory\", \"rev_policy\", \"rev_regime\", \"rev_other\", 'allies']"
   ]
  },
  {
   "cell_type": "code",
   "execution_count": 21,
   "metadata": {},
   "outputs": [],
   "source": [
    "midip=populate_nines(midip, midip_nans, midip_unknowns) #replace -9 in the df with np.nan, which is what it represents"
   ]
  },
  {
   "cell_type": "code",
   "execution_count": 22,
   "metadata": {},
   "outputs": [],
   "source": [
    "#This cell populates revisionism status in the new dataframe. \n",
    "\n",
    "midip[ip_column_adds] = np.nan  #Initialize the laterizable boolean columns\n",
    "\n",
    "rev_dict = {1:\"rev_territory\", 2:\"rev_policy\", 3:\"rev_regime\", 4:\"rev_other\"}\n",
    "\n",
    "\n",
    "for i in range(len(midip)):\n",
    "    revtype1 = midip.loc[i][\"revtype1\"]\n",
    "    revtype2 = midip.loc[i][\"revtype2\"]\n",
    "    \n",
    "    for key, rev_type in rev_dict.items():\n",
    "        if (key==revtype1) or (key==revtype2):\n",
    "            midip.at[i, rev_type] = 1\n",
    "        else:\n",
    "            midip.at[i, rev_type] = 0"
   ]
  },
  {
   "cell_type": "code",
   "execution_count": 23,
   "metadata": {},
   "outputs": [],
   "source": [
    "#This cell provides a column on how many allies aside from itself each nation has in each incident.\n",
    "\n",
    "for i in range(len(midip)):\n",
    "    incidnum = midip.loc[i][\"incidnum\"]\n",
    "    \n",
    "    subdf = slice_midip_by_incidnum(incidnum)\n",
    "    \n",
    "    if midip.at[i, 'insidea'] == 1:\n",
    "        midip.at[i, \"allies\"] = len(subdf[subdf['insidea']==1]) - 1\n",
    "    else:\n",
    "        midip.at[i, \"allies\"] = len(subdf[subdf['insidea']==0]) - 1"
   ]
  },
  {
   "cell_type": "code",
   "execution_count": 24,
   "metadata": {},
   "outputs": [],
   "source": [
    "midip.drop(columns=ip_drops, inplace=True)      #Remove unused columns.  'styear' used for \"year\" because this is supposed to predict for ongoing conflict actions.\n",
    "midip.rename(columns=ip_renames, inplace=True)  #Rename some columns to correspond to my own conventions or altered use of the feature"
   ]
  },
  {
   "cell_type": "code",
   "execution_count": 25,
   "metadata": {},
   "outputs": [],
   "source": [
    "midip.to_csv('../final_data/incids_by_country.csv', index=False)"
   ]
  }
 ],
 "metadata": {
  "kernelspec": {
   "display_name": "Python 3",
   "language": "python",
   "name": "python3"
  },
  "language_info": {
   "codemirror_mode": {
    "name": "ipython",
    "version": 3
   },
   "file_extension": ".py",
   "mimetype": "text/x-python",
   "name": "python",
   "nbconvert_exporter": "python",
   "pygments_lexer": "ipython3",
   "version": "3.7.6"
  }
 },
 "nbformat": 4,
 "nbformat_minor": 4
}
