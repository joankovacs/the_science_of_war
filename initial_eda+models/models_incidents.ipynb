{
 "cells": [
  {
   "cell_type": "code",
   "execution_count": 9,
   "metadata": {},
   "outputs": [],
   "source": [
    "import numpy as np\n",
    "import pandas as pd\n",
    "import matplotlib.pyplot as plt\n",
    "\n",
    "#preprocessing\n",
    "from sklearn.model_selection import train_test_split, GridSearchCV\n",
    "from sklearn.pipeline import Pipeline\n",
    "from sklearn.preprocessing import StandardScaler\n",
    "from sklearn.decomposition import PCA\n",
    "\n",
    "#models\n",
    "from sklearn.dummy import DummyRegressor\n",
    "from sklearn.ensemble import RandomForestRegressor\n",
    "from sklearn.linear_model import LinearRegression, LassoCV, RidgeCV\n",
    "from sklearn.svm import SVR\n",
    "from xgboost import XGBRegressor\n",
    "\n",
    "#post-modelling metrics\n",
    "from sklearn.metrics import r2_score, mean_squared_error, mean_absolute_error"
   ]
  },
  {
   "cell_type": "code",
   "execution_count": 3,
   "metadata": {},
   "outputs": [
    {
     "data": {
      "text/html": [
       "<div>\n",
       "<style scoped>\n",
       "    .dataframe tbody tr th:only-of-type {\n",
       "        vertical-align: middle;\n",
       "    }\n",
       "\n",
       "    .dataframe tbody tr th {\n",
       "        vertical-align: top;\n",
       "    }\n",
       "\n",
       "    .dataframe thead th {\n",
       "        text-align: right;\n",
       "    }\n",
       "</style>\n",
       "<table border=\"1\" class=\"dataframe\">\n",
       "  <thead>\n",
       "    <tr style=\"text-align: right;\">\n",
       "      <th></th>\n",
       "      <th>dispnum</th>\n",
       "      <th>incidnum</th>\n",
       "      <th>y_duration</th>\n",
       "      <th>year</th>\n",
       "      <th>a_country</th>\n",
       "      <th>a_rev_territory</th>\n",
       "      <th>a_rev_policy</th>\n",
       "      <th>a_rev_regime</th>\n",
       "      <th>a_rev_other</th>\n",
       "      <th>a_fatalities</th>\n",
       "      <th>...</th>\n",
       "      <th>a_hostlev</th>\n",
       "      <th>a_coalition</th>\n",
       "      <th>b_country</th>\n",
       "      <th>b_rev_territory</th>\n",
       "      <th>b_rev_policy</th>\n",
       "      <th>b_rev_regime</th>\n",
       "      <th>b_rev_other</th>\n",
       "      <th>b_fatalities</th>\n",
       "      <th>b_hiact</th>\n",
       "      <th>b_hostlev</th>\n",
       "    </tr>\n",
       "  </thead>\n",
       "  <tbody>\n",
       "    <tr>\n",
       "      <th>0</th>\n",
       "      <td>3551</td>\n",
       "      <td>3551010</td>\n",
       "      <td>1.0</td>\n",
       "      <td>1993</td>\n",
       "      <td>2</td>\n",
       "      <td>0</td>\n",
       "      <td>1</td>\n",
       "      <td>0</td>\n",
       "      <td>0</td>\n",
       "      <td>0</td>\n",
       "      <td>...</td>\n",
       "      <td>2</td>\n",
       "      <td>0.0</td>\n",
       "      <td>345</td>\n",
       "      <td>0</td>\n",
       "      <td>0</td>\n",
       "      <td>0</td>\n",
       "      <td>0</td>\n",
       "      <td>0</td>\n",
       "      <td>0</td>\n",
       "      <td>1</td>\n",
       "    </tr>\n",
       "    <tr>\n",
       "      <th>1</th>\n",
       "      <td>3551</td>\n",
       "      <td>3551002</td>\n",
       "      <td>1404.0</td>\n",
       "      <td>1992</td>\n",
       "      <td>coalition</td>\n",
       "      <td>0</td>\n",
       "      <td>1</td>\n",
       "      <td>0</td>\n",
       "      <td>0</td>\n",
       "      <td>0</td>\n",
       "      <td>...</td>\n",
       "      <td>4</td>\n",
       "      <td>8.0</td>\n",
       "      <td>345</td>\n",
       "      <td>0</td>\n",
       "      <td>0</td>\n",
       "      <td>0</td>\n",
       "      <td>0</td>\n",
       "      <td>0</td>\n",
       "      <td>0</td>\n",
       "      <td>1</td>\n",
       "    </tr>\n",
       "    <tr>\n",
       "      <th>2</th>\n",
       "      <td>3551</td>\n",
       "      <td>3551001</td>\n",
       "      <td>1.0</td>\n",
       "      <td>1992</td>\n",
       "      <td>coalition</td>\n",
       "      <td>0</td>\n",
       "      <td>1</td>\n",
       "      <td>0</td>\n",
       "      <td>0</td>\n",
       "      <td>0</td>\n",
       "      <td>...</td>\n",
       "      <td>3</td>\n",
       "      <td>12.0</td>\n",
       "      <td>345</td>\n",
       "      <td>0</td>\n",
       "      <td>0</td>\n",
       "      <td>0</td>\n",
       "      <td>0</td>\n",
       "      <td>0</td>\n",
       "      <td>0</td>\n",
       "      <td>1</td>\n",
       "    </tr>\n",
       "    <tr>\n",
       "      <th>3</th>\n",
       "      <td>3551</td>\n",
       "      <td>3551009</td>\n",
       "      <td>185.0</td>\n",
       "      <td>1993</td>\n",
       "      <td>2</td>\n",
       "      <td>0</td>\n",
       "      <td>1</td>\n",
       "      <td>0</td>\n",
       "      <td>0</td>\n",
       "      <td>0</td>\n",
       "      <td>...</td>\n",
       "      <td>4</td>\n",
       "      <td>0.0</td>\n",
       "      <td>345</td>\n",
       "      <td>0</td>\n",
       "      <td>0</td>\n",
       "      <td>0</td>\n",
       "      <td>0</td>\n",
       "      <td>0</td>\n",
       "      <td>0</td>\n",
       "      <td>1</td>\n",
       "    </tr>\n",
       "    <tr>\n",
       "      <th>4</th>\n",
       "      <td>3551</td>\n",
       "      <td>3551008</td>\n",
       "      <td>1.0</td>\n",
       "      <td>1993</td>\n",
       "      <td>coalition</td>\n",
       "      <td>0</td>\n",
       "      <td>1</td>\n",
       "      <td>0</td>\n",
       "      <td>0</td>\n",
       "      <td>0</td>\n",
       "      <td>...</td>\n",
       "      <td>3</td>\n",
       "      <td>2.0</td>\n",
       "      <td>345</td>\n",
       "      <td>0</td>\n",
       "      <td>0</td>\n",
       "      <td>0</td>\n",
       "      <td>0</td>\n",
       "      <td>0</td>\n",
       "      <td>0</td>\n",
       "      <td>1</td>\n",
       "    </tr>\n",
       "    <tr>\n",
       "      <th>...</th>\n",
       "      <td>...</td>\n",
       "      <td>...</td>\n",
       "      <td>...</td>\n",
       "      <td>...</td>\n",
       "      <td>...</td>\n",
       "      <td>...</td>\n",
       "      <td>...</td>\n",
       "      <td>...</td>\n",
       "      <td>...</td>\n",
       "      <td>...</td>\n",
       "      <td>...</td>\n",
       "      <td>...</td>\n",
       "      <td>...</td>\n",
       "      <td>...</td>\n",
       "      <td>...</td>\n",
       "      <td>...</td>\n",
       "      <td>...</td>\n",
       "      <td>...</td>\n",
       "      <td>...</td>\n",
       "      <td>...</td>\n",
       "      <td>...</td>\n",
       "    </tr>\n",
       "    <tr>\n",
       "      <th>4125</th>\n",
       "      <td>4723</td>\n",
       "      <td>4723002</td>\n",
       "      <td>1.0</td>\n",
       "      <td>2012</td>\n",
       "      <td>740</td>\n",
       "      <td>1</td>\n",
       "      <td>0</td>\n",
       "      <td>0</td>\n",
       "      <td>0</td>\n",
       "      <td>0</td>\n",
       "      <td>...</td>\n",
       "      <td>1</td>\n",
       "      <td>0.0</td>\n",
       "      <td>732</td>\n",
       "      <td>1</td>\n",
       "      <td>0</td>\n",
       "      <td>0</td>\n",
       "      <td>0</td>\n",
       "      <td>0</td>\n",
       "      <td>7</td>\n",
       "      <td>3</td>\n",
       "    </tr>\n",
       "    <tr>\n",
       "      <th>4126</th>\n",
       "      <td>4724</td>\n",
       "      <td>4724002</td>\n",
       "      <td>1.0</td>\n",
       "      <td>2013</td>\n",
       "      <td>740</td>\n",
       "      <td>0</td>\n",
       "      <td>1</td>\n",
       "      <td>0</td>\n",
       "      <td>0</td>\n",
       "      <td>0</td>\n",
       "      <td>...</td>\n",
       "      <td>3</td>\n",
       "      <td>0.0</td>\n",
       "      <td>731</td>\n",
       "      <td>0</td>\n",
       "      <td>1</td>\n",
       "      <td>0</td>\n",
       "      <td>0</td>\n",
       "      <td>0</td>\n",
       "      <td>0</td>\n",
       "      <td>1</td>\n",
       "    </tr>\n",
       "    <tr>\n",
       "      <th>4127</th>\n",
       "      <td>4724</td>\n",
       "      <td>4724001</td>\n",
       "      <td>2.0</td>\n",
       "      <td>2013</td>\n",
       "      <td>732</td>\n",
       "      <td>0</td>\n",
       "      <td>1</td>\n",
       "      <td>0</td>\n",
       "      <td>0</td>\n",
       "      <td>0</td>\n",
       "      <td>...</td>\n",
       "      <td>3</td>\n",
       "      <td>0.0</td>\n",
       "      <td>731</td>\n",
       "      <td>0</td>\n",
       "      <td>1</td>\n",
       "      <td>0</td>\n",
       "      <td>0</td>\n",
       "      <td>0</td>\n",
       "      <td>0</td>\n",
       "      <td>1</td>\n",
       "    </tr>\n",
       "    <tr>\n",
       "      <th>4128</th>\n",
       "      <td>4725</td>\n",
       "      <td>4725001</td>\n",
       "      <td>1.0</td>\n",
       "      <td>2014</td>\n",
       "      <td>732</td>\n",
       "      <td>0</td>\n",
       "      <td>1</td>\n",
       "      <td>0</td>\n",
       "      <td>0</td>\n",
       "      <td>0</td>\n",
       "      <td>...</td>\n",
       "      <td>3</td>\n",
       "      <td>0.0</td>\n",
       "      <td>731</td>\n",
       "      <td>0</td>\n",
       "      <td>1</td>\n",
       "      <td>0</td>\n",
       "      <td>0</td>\n",
       "      <td>0</td>\n",
       "      <td>0</td>\n",
       "      <td>1</td>\n",
       "    </tr>\n",
       "    <tr>\n",
       "      <th>4129</th>\n",
       "      <td>4726</td>\n",
       "      <td>4726001</td>\n",
       "      <td>1.0</td>\n",
       "      <td>2014</td>\n",
       "      <td>2</td>\n",
       "      <td>0</td>\n",
       "      <td>1</td>\n",
       "      <td>0</td>\n",
       "      <td>0</td>\n",
       "      <td>0</td>\n",
       "      <td>...</td>\n",
       "      <td>4</td>\n",
       "      <td>0.0</td>\n",
       "      <td>770</td>\n",
       "      <td>0</td>\n",
       "      <td>1</td>\n",
       "      <td>0</td>\n",
       "      <td>0</td>\n",
       "      <td>0</td>\n",
       "      <td>0</td>\n",
       "      <td>1</td>\n",
       "    </tr>\n",
       "  </tbody>\n",
       "</table>\n",
       "<p>4130 rows × 21 columns</p>\n",
       "</div>"
      ],
      "text/plain": [
       "      dispnum  incidnum  y_duration  year  a_country  a_rev_territory  \\\n",
       "0        3551   3551010         1.0  1993          2                0   \n",
       "1        3551   3551002      1404.0  1992  coalition                0   \n",
       "2        3551   3551001         1.0  1992  coalition                0   \n",
       "3        3551   3551009       185.0  1993          2                0   \n",
       "4        3551   3551008         1.0  1993  coalition                0   \n",
       "...       ...       ...         ...   ...        ...              ...   \n",
       "4125     4723   4723002         1.0  2012        740                1   \n",
       "4126     4724   4724002         1.0  2013        740                0   \n",
       "4127     4724   4724001         2.0  2013        732                0   \n",
       "4128     4725   4725001         1.0  2014        732                0   \n",
       "4129     4726   4726001         1.0  2014          2                0   \n",
       "\n",
       "      a_rev_policy  a_rev_regime  a_rev_other  a_fatalities  ...  a_hostlev  \\\n",
       "0                1             0            0             0  ...          2   \n",
       "1                1             0            0             0  ...          4   \n",
       "2                1             0            0             0  ...          3   \n",
       "3                1             0            0             0  ...          4   \n",
       "4                1             0            0             0  ...          3   \n",
       "...            ...           ...          ...           ...  ...        ...   \n",
       "4125             0             0            0             0  ...          1   \n",
       "4126             1             0            0             0  ...          3   \n",
       "4127             1             0            0             0  ...          3   \n",
       "4128             1             0            0             0  ...          3   \n",
       "4129             1             0            0             0  ...          4   \n",
       "\n",
       "      a_coalition  b_country b_rev_territory  b_rev_policy  b_rev_regime  \\\n",
       "0             0.0        345               0             0             0   \n",
       "1             8.0        345               0             0             0   \n",
       "2            12.0        345               0             0             0   \n",
       "3             0.0        345               0             0             0   \n",
       "4             2.0        345               0             0             0   \n",
       "...           ...        ...             ...           ...           ...   \n",
       "4125          0.0        732               1             0             0   \n",
       "4126          0.0        731               0             1             0   \n",
       "4127          0.0        731               0             1             0   \n",
       "4128          0.0        731               0             1             0   \n",
       "4129          0.0        770               0             1             0   \n",
       "\n",
       "      b_rev_other  b_fatalities  b_hiact  b_hostlev  \n",
       "0               0             0        0          1  \n",
       "1               0             0        0          1  \n",
       "2               0             0        0          1  \n",
       "3               0             0        0          1  \n",
       "4               0             0        0          1  \n",
       "...           ...           ...      ...        ...  \n",
       "4125            0             0        7          3  \n",
       "4126            0             0        0          1  \n",
       "4127            0             0        0          1  \n",
       "4128            0             0        0          1  \n",
       "4129            0             0        0          1  \n",
       "\n",
       "[4130 rows x 21 columns]"
      ]
     },
     "execution_count": 3,
     "metadata": {},
     "output_type": "execute_result"
    }
   ],
   "source": [
    "df = pd.read_csv(\"../final_data/incidents.csv\")\n",
    "df"
   ]
  },
  {
   "cell_type": "code",
   "execution_count": 4,
   "metadata": {},
   "outputs": [],
   "source": [
    "mystery_meat = ['a_georegion', 'a_poliregion', 'b_georegion', 'b_poliregion']\n",
    "one_hots = ['year', 'a_country', 'b_country']\n",
    "\n",
    "\n",
    "features = ['a_rev_territory', 'a_rev_policy', 'a_rev_regime', 'a_rev_other', 'a_fatalities', 'a_hiact', 'a_hostlev', 'a_coalition', \n",
    "            'b_rev_territory', 'b_rev_policy', 'b_rev_regime', 'b_rev_other', 'b_fatalities', 'b_hiact', 'b_hostlev'\n",
    "           ]\n",
    "\n",
    "target = \"y_duration\""
   ]
  },
  {
   "cell_type": "code",
   "execution_count": 5,
   "metadata": {},
   "outputs": [],
   "source": [
    "def onehot(df, hotlist):\n",
    "    for feature in hotlist:\n",
    "        dumdum = pd.get_dummies(df[feature], prefix=f'{feature}', drop_first=True)\n",
    "        df = pd.concat([df, dumdum], axis=1)\n",
    "    return df\n",
    "\n",
    "\n",
    "\n",
    "def append_hot_features(featlist, df, hotlist):\n",
    "    for column in df.columns:\n",
    "        for feature in hotlist:\n",
    "            if feature in column:\n",
    "                featlist.append(column)\n",
    "    return featlist"
   ]
  },
  {
   "cell_type": "code",
   "execution_count": 6,
   "metadata": {},
   "outputs": [],
   "source": [
    "hot_df = onehot(df, one_hots)"
   ]
  },
  {
   "cell_type": "code",
   "execution_count": 7,
   "metadata": {},
   "outputs": [],
   "source": [
    "features = append_hot_features(features, hot_df, one_hots)"
   ]
  },
  {
   "cell_type": "code",
   "execution_count": 11,
   "metadata": {},
   "outputs": [],
   "source": [
    "features.remove(\"year\")\n",
    "features.remove(\"a_country\")\n",
    "features.remove(\"b_country\")"
   ]
  },
  {
   "cell_type": "code",
   "execution_count": 12,
   "metadata": {},
   "outputs": [],
   "source": [
    "X = hot_df[features]\n",
    "y = hot_df[target]\n",
    "\n",
    "X_train, X_test, y_train, y_test = train_test_split(X, y)"
   ]
  },
  {
   "cell_type": "code",
   "execution_count": 13,
   "metadata": {},
   "outputs": [
    {
     "name": "stdout",
     "output_type": "stream",
     "text": [
      "<class 'pandas.core.frame.DataFrame'>\n",
      "Int64Index: 3097 entries, 2 to 2018\n",
      "Columns: 285 entries, a_rev_territory to b_country_coalition\n",
      "dtypes: float64(1), int64(14), uint8(270)\n",
      "memory usage: 1.2 MB\n"
     ]
    }
   ],
   "source": [
    "X_train.info()"
   ]
  },
  {
   "cell_type": "markdown",
   "metadata": {},
   "source": [
    "---\n",
    "---"
   ]
  },
  {
   "cell_type": "code",
   "execution_count": 14,
   "metadata": {},
   "outputs": [
    {
     "data": {
      "text/plain": [
       "3.655372700871249"
      ]
     },
     "execution_count": 14,
     "metadata": {},
     "output_type": "execute_result"
    }
   ],
   "source": [
    "#Baseline\n",
    "DummyPipe = Pipeline([\n",
    "    ('ss', StandardScaler()),\n",
    "    ('dr', DummyRegressor(strategy=\"median\"))\n",
    "])\n",
    "\n",
    "params = {}\n",
    "\n",
    "DummyGrid = GridSearchCV(DummyPipe, param_grid=params, cv=5, verbose=0)\n",
    "\n",
    "#####################################################################################\n",
    "\n",
    "DummyGrid.fit(X_train, y_train)\n",
    "\n",
    "dummy_preds = DummyGrid.predict(X_test)\n",
    "mean_absolute_error(y_true=y_test, y_pred=dummy_preds)"
   ]
  },
  {
   "cell_type": "markdown",
   "metadata": {},
   "source": [
    "---\n",
    "---"
   ]
  },
  {
   "cell_type": "code",
   "execution_count": 15,
   "metadata": {},
   "outputs": [
    {
     "data": {
      "text/plain": [
       "3104519673238.5977"
      ]
     },
     "execution_count": 15,
     "metadata": {},
     "output_type": "execute_result"
    }
   ],
   "source": [
    "LinearPipe = Pipeline([\n",
    "    ('ss', StandardScaler()),\n",
    "    ('lr', LinearRegression())\n",
    "])\n",
    "\n",
    "params = {}\n",
    "\n",
    "LinearGrid = GridSearchCV(LinearPipe, param_grid=params, cv=5, verbose=0)\n",
    "\n",
    "#####################################################################################\n",
    "\n",
    "LinearGrid.fit(X_train, y_train)\n",
    "\n",
    "preds = LinearGrid.predict(X_test)\n",
    "\n",
    "for i in range(len(preds)):\n",
    "    if preds[i]<1.0:\n",
    "        preds[i] = 1.0\n",
    "\n",
    "mean_absolute_error(y_true=y_test, y_pred=preds)"
   ]
  },
  {
   "cell_type": "markdown",
   "metadata": {},
   "source": [
    "---\n",
    "---"
   ]
  },
  {
   "cell_type": "code",
   "execution_count": 16,
   "metadata": {},
   "outputs": [
    {
     "data": {
      "text/plain": [
       "3.7034486945273715"
      ]
     },
     "execution_count": 16,
     "metadata": {},
     "output_type": "execute_result"
    }
   ],
   "source": [
    "SVPipe = Pipeline([\n",
    "    ('ss', StandardScaler()),\n",
    "    ('svr', SVR())\n",
    "])\n",
    "\n",
    "params = {}\n",
    "\n",
    "SVGrid = GridSearchCV(SVPipe, param_grid=params, cv=5, verbose=0)\n",
    "\n",
    "#####################################################################################\n",
    "\n",
    "SVGrid.fit(X_train, y_train)\n",
    "\n",
    "preds = SVGrid.predict(X_test)\n",
    "\n",
    "for i in range(len(preds)):\n",
    "    if preds[i]<1.0:\n",
    "        preds[i] = 1.0\n",
    "\n",
    "mean_absolute_error(y_true=y_test, y_pred=preds)"
   ]
  },
  {
   "cell_type": "markdown",
   "metadata": {},
   "source": [
    "---\n",
    "---"
   ]
  },
  {
   "cell_type": "code",
   "execution_count": 17,
   "metadata": {},
   "outputs": [
    {
     "data": {
      "text/plain": [
       "6.171048136836309"
      ]
     },
     "execution_count": 17,
     "metadata": {},
     "output_type": "execute_result"
    }
   ],
   "source": [
    "ForestPipe = Pipeline([\n",
    "    ('ss', StandardScaler()),\n",
    "    ('rf', RandomForestRegressor())\n",
    "])\n",
    "\n",
    "params = {}\n",
    "\n",
    "ForestGrid = GridSearchCV(ForestPipe, param_grid=params, cv=5, verbose=0)\n",
    "\n",
    "#####################################################################################\n",
    "\n",
    "ForestGrid.fit(X_train, y_train)\n",
    "\n",
    "preds = ForestGrid.predict(X_test)\n",
    "\n",
    "for i in range(len(preds)):\n",
    "    if preds[i]<1.0:\n",
    "        preds[i] = 1.0\n",
    "\n",
    "mean_absolute_error(y_true=y_test, y_pred=preds)"
   ]
  },
  {
   "cell_type": "markdown",
   "metadata": {},
   "source": [
    "---\n",
    "---"
   ]
  },
  {
   "cell_type": "code",
   "execution_count": 18,
   "metadata": {},
   "outputs": [
    {
     "data": {
      "text/plain": [
       "6.034665327450659"
      ]
     },
     "execution_count": 18,
     "metadata": {},
     "output_type": "execute_result"
    }
   ],
   "source": [
    "XGBPipe = Pipeline([\n",
    "    ('ss', StandardScaler()),\n",
    "    ('xgb', XGBRegressor())\n",
    "])\n",
    "\n",
    "params = {}\n",
    "\n",
    "XGBGrid = GridSearchCV(XGBPipe, param_grid=params, cv=5, verbose=0)\n",
    "\n",
    "#####################################################################################\n",
    "\n",
    "XGBGrid.fit(X_train, y_train)\n",
    "\n",
    "preds = XGBGrid.predict(X_test)\n",
    "\n",
    "for i in range(len(preds)):\n",
    "    if preds[i]<1.0:\n",
    "        preds[i] = 1.0\n",
    "\n",
    "mean_absolute_error(y_true=y_test, y_pred=preds)"
   ]
  },
  {
   "cell_type": "markdown",
   "metadata": {},
   "source": [
    "---\n",
    "---"
   ]
  },
  {
   "cell_type": "code",
   "execution_count": 19,
   "metadata": {},
   "outputs": [
    {
     "data": {
      "text/plain": [
       "6.577802054225902"
      ]
     },
     "execution_count": 19,
     "metadata": {},
     "output_type": "execute_result"
    }
   ],
   "source": [
    "LassoPipe = Pipeline([\n",
    "    ('ss', StandardScaler()),\n",
    "    ('ls', LassoCV())\n",
    "])\n",
    "\n",
    "params = {}\n",
    "\n",
    "LassoGrid = GridSearchCV(LassoPipe, param_grid=params, cv=5, verbose=0)\n",
    "\n",
    "#####################################################################################\n",
    "\n",
    "LassoGrid.fit(X_train, y_train)\n",
    "\n",
    "preds = LassoGrid.predict(X_test)\n",
    "\n",
    "for i in range(len(preds)):\n",
    "    if preds[i]<1.0:\n",
    "        preds[i] = 1.0\n",
    "\n",
    "mean_absolute_error(y_true=y_test, y_pred=preds)"
   ]
  },
  {
   "cell_type": "markdown",
   "metadata": {},
   "source": [
    "---\n",
    "---"
   ]
  },
  {
   "cell_type": "code",
   "execution_count": 20,
   "metadata": {},
   "outputs": [
    {
     "data": {
      "text/plain": [
       "7.651810768151471"
      ]
     },
     "execution_count": 20,
     "metadata": {},
     "output_type": "execute_result"
    }
   ],
   "source": [
    "RidgePipe = Pipeline([\n",
    "    ('ss', StandardScaler()),\n",
    "    ('ls', RidgeCV())\n",
    "])\n",
    "\n",
    "params = {}\n",
    "\n",
    "RidgeGrid = GridSearchCV(RidgePipe, param_grid=params, cv=5, verbose=0)\n",
    "\n",
    "#####################################################################################\n",
    "\n",
    "RidgeGrid.fit(X_train, y_train)\n",
    "\n",
    "preds = RidgeGrid.predict(X_test)\n",
    "\n",
    "for i in range(len(preds)):\n",
    "    if preds[i]<1.0:\n",
    "        preds[i] = 1.0\n",
    "\n",
    "mean_absolute_error(y_true=y_test, y_pred=preds)"
   ]
  }
 ],
 "metadata": {
  "kernelspec": {
   "display_name": "Python 3",
   "language": "python",
   "name": "python3"
  },
  "language_info": {
   "codemirror_mode": {
    "name": "ipython",
    "version": 3
   },
   "file_extension": ".py",
   "mimetype": "text/x-python",
   "name": "python",
   "nbconvert_exporter": "python",
   "pygments_lexer": "ipython3",
   "version": "3.7.6"
  }
 },
 "nbformat": 4,
 "nbformat_minor": 4
}
