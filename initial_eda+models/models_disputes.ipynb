{
 "cells": [
  {
   "cell_type": "markdown",
   "metadata": {},
   "source": [
    "## DISPUTES MODELLING\n",
    "\n",
    "Several models will be tested here on duration; the best amongst them will be used to test highest military action & for incidents modelling.\n",
    "1. Remove the low-frequency occurences of country codes.  Run models: RidgeCV, XGBoost, & SVR. \n",
    "2. Run PCA on the data after country codes are one-hot encoded. Run models: RidgeCV, XGBoost, & SVR.  \n",
    "3. Run DBScan to try and group the country code categories, then run models: RidgeCV, XGBoost, & SVR.\n",
    "\n",
    "\n",
    "4. Take the highest-performance preprocess/model pair and run that combination on the data to predict for highest action (side a, then side b)\n",
    "5. Take the highest performance preprocess and use that with ordinal models (Statsmodel + custom) for HiAct.\n",
    "6. Run AutoSklearn Regressor on HiAct."
   ]
  },
  {
   "cell_type": "code",
   "execution_count": 2,
   "metadata": {},
   "outputs": [
    {
     "name": "stderr",
     "output_type": "stream",
     "text": [
      "/home/arcosion/anaconda3/lib/python3.7/importlib/_bootstrap.py:219: RuntimeWarning: numpy.ufunc size changed, may indicate binary incompatibility. Expected 192 from C header, got 216 from PyObject\n",
      "  return f(*args, **kwds)\n",
      "/home/arcosion/anaconda3/lib/python3.7/importlib/_bootstrap.py:219: RuntimeWarning: numpy.ufunc size changed, may indicate binary incompatibility. Expected 192 from C header, got 216 from PyObject\n",
      "  return f(*args, **kwds)\n",
      "/home/arcosion/anaconda3/lib/python3.7/importlib/_bootstrap.py:219: RuntimeWarning: numpy.ufunc size changed, may indicate binary incompatibility. Expected 192 from C header, got 216 from PyObject\n",
      "  return f(*args, **kwds)\n",
      "/home/arcosion/anaconda3/lib/python3.7/importlib/_bootstrap.py:219: RuntimeWarning: numpy.ufunc size changed, may indicate binary incompatibility. Expected 192 from C header, got 216 from PyObject\n",
      "  return f(*args, **kwds)\n",
      "/home/arcosion/anaconda3/lib/python3.7/site-packages/pyparsing.py:3174: FutureWarning: Possible set intersection at position 3\n",
      "  self.re = re.compile(self.reString)\n"
     ]
    }
   ],
   "source": [
    "import numpy as np\n",
    "import pandas as pd\n",
    "import matplotlib.pyplot as plt\n",
    "\n",
    "#preprocessing\n",
    "from sklearn.model_selection import train_test_split, GridSearchCV\n",
    "from sklearn.pipeline import Pipeline\n",
    "from sklearn.preprocessing import StandardScaler\n",
    "from sklearn.decomposition import PCA\n",
    "\n",
    "#models\n",
    "from sklearn.dummy import DummyRegressor\n",
    "from sklearn.linear_model import RidgeCV\n",
    "from sklearn.svm import SVR\n",
    "from xgboost import XGBRegressor\n",
    "\n",
    "#metrics\n",
    "from sklearn.metrics import silhouette_score, mean_absolute_error, accuracy_score\n",
    "\n",
    "#additional models\n",
    "from sklearn.cluster import DBSCAN\n",
    "from autosklearn.regression import AutoSklearnRegressor\n",
    "#from statsmodels.miscmodels.ordinal_model import OrderedModel"
   ]
  },
  {
   "cell_type": "code",
   "execution_count": 3,
   "metadata": {},
   "outputs": [
    {
     "data": {
      "text/html": [
       "<div>\n",
       "<style scoped>\n",
       "    .dataframe tbody tr th:only-of-type {\n",
       "        vertical-align: middle;\n",
       "    }\n",
       "\n",
       "    .dataframe tbody tr th {\n",
       "        vertical-align: top;\n",
       "    }\n",
       "\n",
       "    .dataframe thead th {\n",
       "        text-align: right;\n",
       "    }\n",
       "</style>\n",
       "<table border=\"1\" class=\"dataframe\">\n",
       "  <thead>\n",
       "    <tr style=\"text-align: right;\">\n",
       "      <th></th>\n",
       "      <th>dispnum</th>\n",
       "      <th>y_avgdur</th>\n",
       "      <th>year</th>\n",
       "      <th>outcome</th>\n",
       "      <th>settle</th>\n",
       "      <th>recip</th>\n",
       "      <th>a_country</th>\n",
       "      <th>a_rev_territory</th>\n",
       "      <th>a_rev_policy</th>\n",
       "      <th>a_rev_regime</th>\n",
       "      <th>...</th>\n",
       "      <th>b_country</th>\n",
       "      <th>b_rev_territory</th>\n",
       "      <th>b_rev_policy</th>\n",
       "      <th>b_rev_regime</th>\n",
       "      <th>b_rev_other</th>\n",
       "      <th>b_fatalities</th>\n",
       "      <th>b_hiact</th>\n",
       "      <th>b_hostlev</th>\n",
       "      <th>b_orig</th>\n",
       "      <th>b_coalition</th>\n",
       "    </tr>\n",
       "  </thead>\n",
       "  <tbody>\n",
       "    <tr>\n",
       "      <th>0</th>\n",
       "      <td>3551</td>\n",
       "      <td>1540.0</td>\n",
       "      <td>1992</td>\n",
       "      <td>1</td>\n",
       "      <td>1</td>\n",
       "      <td>1</td>\n",
       "      <td>coalition</td>\n",
       "      <td>0</td>\n",
       "      <td>1</td>\n",
       "      <td>0</td>\n",
       "      <td>...</td>\n",
       "      <td>345</td>\n",
       "      <td>0</td>\n",
       "      <td>0</td>\n",
       "      <td>0</td>\n",
       "      <td>0</td>\n",
       "      <td>0</td>\n",
       "      <td>15</td>\n",
       "      <td>4</td>\n",
       "      <td>1</td>\n",
       "      <td>0.0</td>\n",
       "    </tr>\n",
       "    <tr>\n",
       "      <th>1</th>\n",
       "      <td>3552</td>\n",
       "      <td>515.0</td>\n",
       "      <td>1992</td>\n",
       "      <td>5</td>\n",
       "      <td>3</td>\n",
       "      <td>0</td>\n",
       "      <td>coalition</td>\n",
       "      <td>0</td>\n",
       "      <td>0</td>\n",
       "      <td>0</td>\n",
       "      <td>...</td>\n",
       "      <td>645</td>\n",
       "      <td>0</td>\n",
       "      <td>1</td>\n",
       "      <td>0</td>\n",
       "      <td>0</td>\n",
       "      <td>0</td>\n",
       "      <td>17</td>\n",
       "      <td>4</td>\n",
       "      <td>1</td>\n",
       "      <td>0.0</td>\n",
       "    </tr>\n",
       "    <tr>\n",
       "      <th>2</th>\n",
       "      <td>3554</td>\n",
       "      <td>23.0</td>\n",
       "      <td>1992</td>\n",
       "      <td>5</td>\n",
       "      <td>3</td>\n",
       "      <td>0</td>\n",
       "      <td>339</td>\n",
       "      <td>0</td>\n",
       "      <td>1</td>\n",
       "      <td>0</td>\n",
       "      <td>...</td>\n",
       "      <td>345</td>\n",
       "      <td>0</td>\n",
       "      <td>0</td>\n",
       "      <td>0</td>\n",
       "      <td>0</td>\n",
       "      <td>0</td>\n",
       "      <td>0</td>\n",
       "      <td>1</td>\n",
       "      <td>1</td>\n",
       "      <td>0.0</td>\n",
       "    </tr>\n",
       "    <tr>\n",
       "      <th>3</th>\n",
       "      <td>3555</td>\n",
       "      <td>173.0</td>\n",
       "      <td>1992</td>\n",
       "      <td>5</td>\n",
       "      <td>3</td>\n",
       "      <td>1</td>\n",
       "      <td>344</td>\n",
       "      <td>0</td>\n",
       "      <td>0</td>\n",
       "      <td>0</td>\n",
       "      <td>...</td>\n",
       "      <td>345</td>\n",
       "      <td>1</td>\n",
       "      <td>0</td>\n",
       "      <td>0</td>\n",
       "      <td>0</td>\n",
       "      <td>0</td>\n",
       "      <td>17</td>\n",
       "      <td>4</td>\n",
       "      <td>1</td>\n",
       "      <td>0.0</td>\n",
       "    </tr>\n",
       "    <tr>\n",
       "      <th>4</th>\n",
       "      <td>3556</td>\n",
       "      <td>7.0</td>\n",
       "      <td>1992</td>\n",
       "      <td>6</td>\n",
       "      <td>1</td>\n",
       "      <td>1</td>\n",
       "      <td>344</td>\n",
       "      <td>1</td>\n",
       "      <td>0</td>\n",
       "      <td>0</td>\n",
       "      <td>...</td>\n",
       "      <td>346</td>\n",
       "      <td>0</td>\n",
       "      <td>0</td>\n",
       "      <td>0</td>\n",
       "      <td>0</td>\n",
       "      <td>0</td>\n",
       "      <td>17</td>\n",
       "      <td>4</td>\n",
       "      <td>1</td>\n",
       "      <td>0.0</td>\n",
       "    </tr>\n",
       "    <tr>\n",
       "      <th>...</th>\n",
       "      <td>...</td>\n",
       "      <td>...</td>\n",
       "      <td>...</td>\n",
       "      <td>...</td>\n",
       "      <td>...</td>\n",
       "      <td>...</td>\n",
       "      <td>...</td>\n",
       "      <td>...</td>\n",
       "      <td>...</td>\n",
       "      <td>...</td>\n",
       "      <td>...</td>\n",
       "      <td>...</td>\n",
       "      <td>...</td>\n",
       "      <td>...</td>\n",
       "      <td>...</td>\n",
       "      <td>...</td>\n",
       "      <td>...</td>\n",
       "      <td>...</td>\n",
       "      <td>...</td>\n",
       "      <td>...</td>\n",
       "      <td>...</td>\n",
       "    </tr>\n",
       "    <tr>\n",
       "      <th>842</th>\n",
       "      <td>4722</td>\n",
       "      <td>1.0</td>\n",
       "      <td>2011</td>\n",
       "      <td>8</td>\n",
       "      <td>3</td>\n",
       "      <td>1</td>\n",
       "      <td>740</td>\n",
       "      <td>1</td>\n",
       "      <td>0</td>\n",
       "      <td>0</td>\n",
       "      <td>...</td>\n",
       "      <td>732</td>\n",
       "      <td>1</td>\n",
       "      <td>0</td>\n",
       "      <td>0</td>\n",
       "      <td>0</td>\n",
       "      <td>0</td>\n",
       "      <td>7</td>\n",
       "      <td>3</td>\n",
       "      <td>1</td>\n",
       "      <td>0.0</td>\n",
       "    </tr>\n",
       "    <tr>\n",
       "      <th>843</th>\n",
       "      <td>4723</td>\n",
       "      <td>1.0</td>\n",
       "      <td>2012</td>\n",
       "      <td>8</td>\n",
       "      <td>3</td>\n",
       "      <td>1</td>\n",
       "      <td>740</td>\n",
       "      <td>1</td>\n",
       "      <td>0</td>\n",
       "      <td>0</td>\n",
       "      <td>...</td>\n",
       "      <td>732</td>\n",
       "      <td>1</td>\n",
       "      <td>0</td>\n",
       "      <td>0</td>\n",
       "      <td>0</td>\n",
       "      <td>0</td>\n",
       "      <td>7</td>\n",
       "      <td>3</td>\n",
       "      <td>1</td>\n",
       "      <td>0.0</td>\n",
       "    </tr>\n",
       "    <tr>\n",
       "      <th>844</th>\n",
       "      <td>4724</td>\n",
       "      <td>2.0</td>\n",
       "      <td>2013</td>\n",
       "      <td>8</td>\n",
       "      <td>3</td>\n",
       "      <td>0</td>\n",
       "      <td>coalition</td>\n",
       "      <td>0</td>\n",
       "      <td>1</td>\n",
       "      <td>0</td>\n",
       "      <td>...</td>\n",
       "      <td>731</td>\n",
       "      <td>0</td>\n",
       "      <td>1</td>\n",
       "      <td>0</td>\n",
       "      <td>0</td>\n",
       "      <td>0</td>\n",
       "      <td>0</td>\n",
       "      <td>1</td>\n",
       "      <td>1</td>\n",
       "      <td>0.0</td>\n",
       "    </tr>\n",
       "    <tr>\n",
       "      <th>845</th>\n",
       "      <td>4725</td>\n",
       "      <td>1.0</td>\n",
       "      <td>2014</td>\n",
       "      <td>8</td>\n",
       "      <td>3</td>\n",
       "      <td>0</td>\n",
       "      <td>732</td>\n",
       "      <td>0</td>\n",
       "      <td>1</td>\n",
       "      <td>0</td>\n",
       "      <td>...</td>\n",
       "      <td>731</td>\n",
       "      <td>0</td>\n",
       "      <td>1</td>\n",
       "      <td>0</td>\n",
       "      <td>0</td>\n",
       "      <td>0</td>\n",
       "      <td>0</td>\n",
       "      <td>1</td>\n",
       "      <td>1</td>\n",
       "      <td>0.0</td>\n",
       "    </tr>\n",
       "    <tr>\n",
       "      <th>846</th>\n",
       "      <td>4726</td>\n",
       "      <td>1.0</td>\n",
       "      <td>2014</td>\n",
       "      <td>8</td>\n",
       "      <td>3</td>\n",
       "      <td>0</td>\n",
       "      <td>2</td>\n",
       "      <td>0</td>\n",
       "      <td>1</td>\n",
       "      <td>0</td>\n",
       "      <td>...</td>\n",
       "      <td>770</td>\n",
       "      <td>0</td>\n",
       "      <td>1</td>\n",
       "      <td>0</td>\n",
       "      <td>0</td>\n",
       "      <td>0</td>\n",
       "      <td>0</td>\n",
       "      <td>1</td>\n",
       "      <td>1</td>\n",
       "      <td>0.0</td>\n",
       "    </tr>\n",
       "  </tbody>\n",
       "</table>\n",
       "<p>847 rows × 26 columns</p>\n",
       "</div>"
      ],
      "text/plain": [
       "     dispnum  y_avgdur  year  outcome  settle  recip  a_country  \\\n",
       "0       3551    1540.0  1992        1       1      1  coalition   \n",
       "1       3552     515.0  1992        5       3      0  coalition   \n",
       "2       3554      23.0  1992        5       3      0        339   \n",
       "3       3555     173.0  1992        5       3      1        344   \n",
       "4       3556       7.0  1992        6       1      1        344   \n",
       "..       ...       ...   ...      ...     ...    ...        ...   \n",
       "842     4722       1.0  2011        8       3      1        740   \n",
       "843     4723       1.0  2012        8       3      1        740   \n",
       "844     4724       2.0  2013        8       3      0  coalition   \n",
       "845     4725       1.0  2014        8       3      0        732   \n",
       "846     4726       1.0  2014        8       3      0          2   \n",
       "\n",
       "     a_rev_territory  a_rev_policy  a_rev_regime  ...  b_country  \\\n",
       "0                  0             1             0  ...        345   \n",
       "1                  0             0             0  ...        645   \n",
       "2                  0             1             0  ...        345   \n",
       "3                  0             0             0  ...        345   \n",
       "4                  1             0             0  ...        346   \n",
       "..               ...           ...           ...  ...        ...   \n",
       "842                1             0             0  ...        732   \n",
       "843                1             0             0  ...        732   \n",
       "844                0             1             0  ...        731   \n",
       "845                0             1             0  ...        731   \n",
       "846                0             1             0  ...        770   \n",
       "\n",
       "     b_rev_territory  b_rev_policy  b_rev_regime  b_rev_other  b_fatalities  \\\n",
       "0                  0             0             0            0             0   \n",
       "1                  0             1             0            0             0   \n",
       "2                  0             0             0            0             0   \n",
       "3                  1             0             0            0             0   \n",
       "4                  0             0             0            0             0   \n",
       "..               ...           ...           ...          ...           ...   \n",
       "842                1             0             0            0             0   \n",
       "843                1             0             0            0             0   \n",
       "844                0             1             0            0             0   \n",
       "845                0             1             0            0             0   \n",
       "846                0             1             0            0             0   \n",
       "\n",
       "    b_hiact  b_hostlev  b_orig  b_coalition  \n",
       "0        15          4       1          0.0  \n",
       "1        17          4       1          0.0  \n",
       "2         0          1       1          0.0  \n",
       "3        17          4       1          0.0  \n",
       "4        17          4       1          0.0  \n",
       "..      ...        ...     ...          ...  \n",
       "842       7          3       1          0.0  \n",
       "843       7          3       1          0.0  \n",
       "844       0          1       1          0.0  \n",
       "845       0          1       1          0.0  \n",
       "846       0          1       1          0.0  \n",
       "\n",
       "[847 rows x 26 columns]"
      ]
     },
     "execution_count": 3,
     "metadata": {},
     "output_type": "execute_result"
    }
   ],
   "source": [
    "df = pd.read_csv(\"../final_data/disputes.csv\")\n",
    "df"
   ]
  },
  {
   "cell_type": "code",
   "execution_count": 3,
   "metadata": {},
   "outputs": [],
   "source": [
    "###############################################################################################################################\n",
    "#####  Data structures - lists & basics  ######################################################################################\n",
    "\n",
    "one_hots = ['year', 'a_country', 'b_country']\n",
    "\n",
    "###############################################################################################################################\n",
    "#####  Data structures - pipelines ############################################################################################\n",
    "\n",
    "BasicRidgePipe = Pipeline([\n",
    "    ('ss', StandardScaler()),\n",
    "    ('rdg', RidgeCV())\n",
    "])\n",
    "\n",
    "BasicXGBPipe = Pipeline([\n",
    "    ('ss', StandardScaler()),\n",
    "    ('xgb', XGBRegressor())\n",
    "])\n",
    "\n",
    "BasicSVRPipe = Pipeline([\n",
    "    ('ss', StandardScaler()),\n",
    "    ('svr', SVR())\n",
    "])\n",
    "\n",
    "#######################################################\n",
    "\n",
    "PCA_RidgePipe = Pipeline([\n",
    "    ('pca', PCA()),\n",
    "    ('rdg', RidgeCV())\n",
    "])\n",
    "\n",
    "PCA_XGBPipe = Pipeline([\n",
    "    ('pca', PCA()),\n",
    "    ('xgb', XGBRegressor())\n",
    "])\n",
    "\n",
    "PCA_SVRPipe = Pipeline([\n",
    "    ('pca', PCA()),\n",
    "    ('svr', SVR())\n",
    "])\n",
    "\n",
    "\n",
    "###############################################################################################################################\n",
    "#####  Data structures - parameter grids  #####################################################################################\n",
    "\n",
    "pca_grid = {\n",
    "    \"pca__n_components\":[None, 8, 20]\n",
    "}\n",
    "\n",
    "ridge_grid = {\n",
    "#    \"rdg__alphas\":np.logspace(0.1, 1, 10),\n",
    "    \"rdg__alpha_per_target\":[False, True]\n",
    "}\n",
    "\n",
    "xgb_grid = {\n",
    "    \"xgb__gamma\":[0, 0.1, 1, 5],\n",
    "#    \"xgb__max_depth\":[5, 6, 8]\n",
    "}\n",
    "\n",
    "svr_grid = {\n",
    "    \"svr__C\":np.logspace(0.01, 10, 5)\n",
    "}"
   ]
  },
  {
   "cell_type": "code",
   "execution_count": 4,
   "metadata": {},
   "outputs": [],
   "source": [
    "#Function definitions\n",
    "\n",
    "def onehot(df, target):\n",
    "    #Returns an augmented dataframe that has appended one-hot columns and removed the original column\\\n",
    "    dumdum = pd.get_dummies(df[target], prefix=target, drop_first=True)\n",
    "    df = pd.concat([df, dumdum], axis=1)\n",
    "    df.drop(columns=target, inplace=True)\n",
    "    return df\n",
    "\n",
    "\n",
    "\n",
    "def autohot(df, target_list):\n",
    "    #returns a dataframe that has one-hot encoded the target list and appended\n",
    "    for feature in target_list:\n",
    "        df = onehot(df, feature)\n",
    "    return df\n",
    "\n",
    "\n",
    "\n",
    "def drop_low_freqs(df, prefix_targets):\n",
    "    #drops all columns from the target list whose sum <= 2\n",
    "    target_list = []\n",
    "    for prefix in prefix_targets:\n",
    "        targets = [feature for feature in df.columns if prefix in feature]\n",
    "        target_list += targets\n",
    "    \n",
    "    low_freqs = [col for col in target_list if sum(df[col]) <= 3]\n",
    "    \n",
    "    return df.drop(columns=low_freqs)\n",
    "\n",
    "\n",
    "def autogrid(X, y, Pipe, model_grid, estimator_grid={}, min_bound=None, max_bound=None):\n",
    "    #runs a grid on the pipe, based on parameters, and then returns predictions from the best model. \n",
    "    \n",
    "    model_grid.update(estimator_grid)\n",
    "    \n",
    "    Grid = GridSearchCV(Pipe, param_grid=model_grid, cv=5, verbose=0)\n",
    "    Grid.fit(X_train, y_train)\n",
    "    preds = Grid.predict(X_test)\n",
    "    \n",
    "    if min_bound != None:\n",
    "        for i in range(len(preds)):\n",
    "            if preds[i] < min_bound:\n",
    "                preds[i] = min_bound\n",
    "    \n",
    "    if max_bound != None:\n",
    "        for i in range(len(preds)):\n",
    "            if preds[i] > max_bound:\n",
    "                preds[i] = max_bound\n",
    "    \n",
    "    return preds\n",
    "\n",
    "\n",
    "\n",
    "def make_whole(array):\n",
    "    #rounds an array\n",
    "    int_array = array\n",
    "    for i in range(len(int_array)):\n",
    "        int_array[i] = int(round(int_array[i]))\n",
    "    return int_array\n",
    "\n",
    "\n",
    "\n",
    "def model_metrics(title, true, preds, mae=False, acc=False)\n",
    "    #title is the name of the variable being selected.  mae or acc= True to choose metrics.  Accuracy expects an ordinal variable predicted by regression and will round before running.\n",
    "    if mae=True:\n",
    "        print(f'Mean Absolute Error for predicting {title}: {mean_absolute_error(y_true=ya_true_strict2, y_pred=a_preds_strict2)}')\n",
    "\n",
    "    if acc=True:\n",
    "        preds = make_whole(preds)\n",
    "        print('')\n",
    "        print(f'Precision accuracy score for {title} (after rounding):  {round(accuracy_score(y_true=ya_true_strict2, y_pred=a_preds_int_strict2), 3) * 100}%')"
   ]
  },
  {
   "cell_type": "markdown",
   "metadata": {},
   "source": [
    "---\n",
    "---\n",
    "\n",
    "## Modelling & Code \n",
    "\n",
    "---\n",
    "---\n",
    "\n",
    "1. Target: Duration\n",
    "2. Preprocessing: Drop low frequencies\n",
    "3. Models: Linear regression, XGB, and SVR"
   ]
  },
  {
   "cell_type": "code",
   "execution_count": 5,
   "metadata": {},
   "outputs": [],
   "source": [
    "drop_columns = ['outcome', 'settle', 'y_avgdur']\n",
    "target = \"y_avgdur\""
   ]
  },
  {
   "cell_type": "code",
   "execution_count": 6,
   "metadata": {},
   "outputs": [],
   "source": [
    "prep = autohot(df, one_hots)\n",
    "prep = drop_low_freqs(prep, one_hots)"
   ]
  },
  {
   "cell_type": "code",
   "execution_count": 7,
   "metadata": {},
   "outputs": [],
   "source": [
    "X = prep.drop(columns=drop_columns)\n",
    "y = prep[target]\n",
    "\n",
    "X_train, X_test, y_train, y_test = train_test_split(X, y, random_state=42)"
   ]
  },
  {
   "cell_type": "code",
   "execution_count": 10,
   "metadata": {},
   "outputs": [
    {
     "data": {
      "text/plain": [
       "164.92256620290092"
      ]
     },
     "execution_count": 10,
     "metadata": {},
     "output_type": "execute_result"
    }
   ],
   "source": [
    "autogrid(X, y, BasicRidgePipe, model_grid=ridge_grid, min_bound=1.0)"
   ]
  },
  {
   "cell_type": "code",
   "execution_count": 11,
   "metadata": {},
   "outputs": [
    {
     "data": {
      "text/plain": [
       "143.32965411189272"
      ]
     },
     "execution_count": 11,
     "metadata": {},
     "output_type": "execute_result"
    }
   ],
   "source": [
    "autogrid(X, y, BasicSVRPipe, model_grid=svr_grid, min_bound=1.0)"
   ]
  },
  {
   "cell_type": "code",
   "execution_count": 12,
   "metadata": {},
   "outputs": [
    {
     "data": {
      "text/plain": [
       "168.73151737395324"
      ]
     },
     "execution_count": 12,
     "metadata": {},
     "output_type": "execute_result"
    }
   ],
   "source": [
    "autogrid(X, y, BasicXGBPipe, model_grid=xgb_grid, min_bound=1.0)"
   ]
  },
  {
   "cell_type": "markdown",
   "metadata": {},
   "source": [
    "---\n",
    "---\n",
    "\n",
    "## Modelling & Code \n",
    "\n",
    "---\n",
    "---\n",
    "\n",
    "1. Target: Duration\n",
    "2. Preprocessing: PCA + drop low frequencies\n",
    "3. Models: Linear regression, XGB, and SVR"
   ]
  },
  {
   "cell_type": "code",
   "execution_count": 13,
   "metadata": {},
   "outputs": [
    {
     "data": {
      "text/plain": [
       "160.955961284223"
      ]
     },
     "execution_count": 13,
     "metadata": {},
     "output_type": "execute_result"
    }
   ],
   "source": [
    "autogrid(X, y, PCA_RidgePipe, model_grid=ridge_grid, min_bound=1.0)"
   ]
  },
  {
   "cell_type": "code",
   "execution_count": 21,
   "metadata": {},
   "outputs": [
    {
     "data": {
      "text/plain": [
       "141.70929645643466"
      ]
     },
     "execution_count": 21,
     "metadata": {},
     "output_type": "execute_result"
    }
   ],
   "source": [
    "autogrid(X, y, PCA_SVRPipe, model_grid=svr_grid, min_bound=1.0)"
   ]
  },
  {
   "cell_type": "code",
   "execution_count": 16,
   "metadata": {},
   "outputs": [
    {
     "data": {
      "text/plain": [
       "197.2388922515905"
      ]
     },
     "execution_count": 16,
     "metadata": {},
     "output_type": "execute_result"
    }
   ],
   "source": [
    "autogrid(X, y, PCA_XGBPipe, model_grid=xgb_grid, min_bound=1.0)"
   ]
  },
  {
   "cell_type": "markdown",
   "metadata": {},
   "source": [
    "---\n",
    "---\n",
    "\n",
    "## Modelling & Code \n",
    "\n",
    "---\n",
    "---\n",
    "\n",
    "1. Target: Duration\n",
    "2. Preprocessing: *only* PCA\n",
    "3. Models: Linear regression, XGB, and SVR"
   ]
  },
  {
   "cell_type": "code",
   "execution_count": 18,
   "metadata": {},
   "outputs": [],
   "source": [
    "prep2 = autohot(df, one_hots)\n",
    "X = prep2.drop(columns=drop_columns)\n",
    "y = prep2[target]"
   ]
  },
  {
   "cell_type": "code",
   "execution_count": 19,
   "metadata": {},
   "outputs": [
    {
     "data": {
      "text/plain": [
       "161.20292219418428"
      ]
     },
     "execution_count": 19,
     "metadata": {},
     "output_type": "execute_result"
    }
   ],
   "source": [
    "autogrid(X, y, PCA_RidgePipe, model_grid=ridge_grid, min_bound=1.0)"
   ]
  },
  {
   "cell_type": "code",
   "execution_count": 22,
   "metadata": {},
   "outputs": [],
   "source": [
    "autogrid(X, y, PCA_SVRPipe, model_grid=svr_grid, min_bound=1.0)"
   ]
  },
  {
   "cell_type": "code",
   "execution_count": 20,
   "metadata": {},
   "outputs": [
    {
     "data": {
      "text/plain": [
       "209.3377030424352"
      ]
     },
     "execution_count": 20,
     "metadata": {},
     "output_type": "execute_result"
    }
   ],
   "source": [
    "autogrid(X, y, PCA_XGBPipe, model_grid=xgb_grid, min_bound=1.0)"
   ]
  },
  {
   "cell_type": "markdown",
   "metadata": {},
   "source": [
    "---\n",
    "---\n",
    "\n",
    "## Modelling & Code \n",
    "\n",
    "---\n",
    "---\n",
    "\n",
    "1. Target: Duration\n",
    "2. Preprocessing: Setting labels via DBScan\n",
    "3. Models: Linear regression, XGB, and SVR"
   ]
  },
  {
   "cell_type": "code",
   "execution_count": 12,
   "metadata": {},
   "outputs": [
    {
     "data": {
      "text/plain": [
       "{-1, 0, 1, 2, 3, 4, 5, 6}"
      ]
     },
     "execution_count": 12,
     "metadata": {},
     "output_type": "execute_result"
    }
   ],
   "source": [
    "dbscan_drops = ['dispnum', 'outcome', 'settle', 'a_country', 'b_country']\n",
    "\n",
    "\n",
    "X_scaled = StandardScaler().fit_transform(df.drop(columns=dbscan_drops))\n",
    "\n",
    "dbscan = DBSCAN(eps=3, min_samples=4)\n",
    "dbscan.fit(X_scaled)\n",
    "set(dbscan.labels_)"
   ]
  },
  {
   "cell_type": "code",
   "execution_count": 13,
   "metadata": {},
   "outputs": [
    {
     "data": {
      "text/plain": [
       "0.16219043146079573"
      ]
     },
     "execution_count": 13,
     "metadata": {},
     "output_type": "execute_result"
    }
   ],
   "source": [
    "silhouette_score(X_scaled, dbscan.labels_)"
   ]
  },
  {
   "cell_type": "code",
   "execution_count": 14,
   "metadata": {},
   "outputs": [],
   "source": [
    "df['cluster'] = dbscan.labels_"
   ]
  },
  {
   "cell_type": "code",
   "execution_count": 15,
   "metadata": {},
   "outputs": [
    {
     "data": {
      "text/plain": [
       " 0    682\n",
       " 1     84\n",
       "-1     46\n",
       " 3     11\n",
       " 5      7\n",
       " 4      7\n",
       " 2      6\n",
       " 6      4\n",
       "Name: cluster, dtype: int64"
      ]
     },
     "execution_count": 15,
     "metadata": {},
     "output_type": "execute_result"
    }
   ],
   "source": [
    "df['cluster'].value_counts()"
   ]
  },
  {
   "cell_type": "code",
   "execution_count": 16,
   "metadata": {},
   "outputs": [
    {
     "data": {
      "text/plain": [
       "6.1676505312868946"
      ]
     },
     "execution_count": 16,
     "metadata": {},
     "output_type": "execute_result"
    }
   ],
   "source": [
    "df['b_hiact'].mean()"
   ]
  },
  {
   "cell_type": "code",
   "execution_count": 17,
   "metadata": {},
   "outputs": [
    {
     "data": {
      "text/html": [
       "<div>\n",
       "<style scoped>\n",
       "    .dataframe tbody tr th:only-of-type {\n",
       "        vertical-align: middle;\n",
       "    }\n",
       "\n",
       "    .dataframe tbody tr th {\n",
       "        vertical-align: top;\n",
       "    }\n",
       "\n",
       "    .dataframe thead th {\n",
       "        text-align: right;\n",
       "    }\n",
       "</style>\n",
       "<table border=\"1\" class=\"dataframe\">\n",
       "  <thead>\n",
       "    <tr style=\"text-align: right;\">\n",
       "      <th>cluster</th>\n",
       "      <th>-1</th>\n",
       "      <th>0</th>\n",
       "      <th>1</th>\n",
       "      <th>2</th>\n",
       "      <th>3</th>\n",
       "      <th>4</th>\n",
       "      <th>5</th>\n",
       "      <th>6</th>\n",
       "    </tr>\n",
       "  </thead>\n",
       "  <tbody>\n",
       "    <tr>\n",
       "      <th>dispnum</th>\n",
       "      <td>4192.782609</td>\n",
       "      <td>4247.958944</td>\n",
       "      <td>4292.559524</td>\n",
       "      <td>4066.500000</td>\n",
       "      <td>4145.545455</td>\n",
       "      <td>4186.571429</td>\n",
       "      <td>4281.000000</td>\n",
       "      <td>4450.50</td>\n",
       "    </tr>\n",
       "    <tr>\n",
       "      <th>y_avgdur</th>\n",
       "      <td>641.717391</td>\n",
       "      <td>110.556452</td>\n",
       "      <td>159.529762</td>\n",
       "      <td>315.166667</td>\n",
       "      <td>151.136364</td>\n",
       "      <td>67.571429</td>\n",
       "      <td>240.714286</td>\n",
       "      <td>298.50</td>\n",
       "    </tr>\n",
       "    <tr>\n",
       "      <th>y_hiact</th>\n",
       "      <td>14.086957</td>\n",
       "      <td>13.294721</td>\n",
       "      <td>13.238095</td>\n",
       "      <td>16.333333</td>\n",
       "      <td>14.545455</td>\n",
       "      <td>13.142857</td>\n",
       "      <td>17.000000</td>\n",
       "      <td>7.00</td>\n",
       "    </tr>\n",
       "    <tr>\n",
       "      <th>year</th>\n",
       "      <td>1991.543478</td>\n",
       "      <td>1994.055718</td>\n",
       "      <td>2001.714286</td>\n",
       "      <td>1994.500000</td>\n",
       "      <td>1988.818182</td>\n",
       "      <td>1998.857143</td>\n",
       "      <td>2000.857143</td>\n",
       "      <td>2005.25</td>\n",
       "    </tr>\n",
       "    <tr>\n",
       "      <th>outcome</th>\n",
       "      <td>4.913043</td>\n",
       "      <td>5.601173</td>\n",
       "      <td>6.119048</td>\n",
       "      <td>2.333333</td>\n",
       "      <td>4.909091</td>\n",
       "      <td>5.142857</td>\n",
       "      <td>5.428571</td>\n",
       "      <td>5.75</td>\n",
       "    </tr>\n",
       "    <tr>\n",
       "      <th>settle</th>\n",
       "      <td>2.760870</td>\n",
       "      <td>2.903226</td>\n",
       "      <td>2.809524</td>\n",
       "      <td>2.166667</td>\n",
       "      <td>2.909091</td>\n",
       "      <td>2.857143</td>\n",
       "      <td>2.428571</td>\n",
       "      <td>3.00</td>\n",
       "    </tr>\n",
       "    <tr>\n",
       "      <th>recip</th>\n",
       "      <td>0.630435</td>\n",
       "      <td>0.373900</td>\n",
       "      <td>0.654762</td>\n",
       "      <td>1.000000</td>\n",
       "      <td>0.000000</td>\n",
       "      <td>0.000000</td>\n",
       "      <td>1.000000</td>\n",
       "      <td>1.00</td>\n",
       "    </tr>\n",
       "    <tr>\n",
       "      <th>a_georegion</th>\n",
       "      <td>NaN</td>\n",
       "      <td>NaN</td>\n",
       "      <td>NaN</td>\n",
       "      <td>NaN</td>\n",
       "      <td>NaN</td>\n",
       "      <td>NaN</td>\n",
       "      <td>NaN</td>\n",
       "      <td>NaN</td>\n",
       "    </tr>\n",
       "    <tr>\n",
       "      <th>a_poliregion</th>\n",
       "      <td>NaN</td>\n",
       "      <td>NaN</td>\n",
       "      <td>NaN</td>\n",
       "      <td>NaN</td>\n",
       "      <td>NaN</td>\n",
       "      <td>NaN</td>\n",
       "      <td>NaN</td>\n",
       "      <td>NaN</td>\n",
       "    </tr>\n",
       "    <tr>\n",
       "      <th>a_rev_territory</th>\n",
       "      <td>0.195652</td>\n",
       "      <td>0.127566</td>\n",
       "      <td>0.726190</td>\n",
       "      <td>0.000000</td>\n",
       "      <td>0.000000</td>\n",
       "      <td>0.000000</td>\n",
       "      <td>1.000000</td>\n",
       "      <td>1.00</td>\n",
       "    </tr>\n",
       "    <tr>\n",
       "      <th>a_rev_policy</th>\n",
       "      <td>0.456522</td>\n",
       "      <td>0.511730</td>\n",
       "      <td>0.011905</td>\n",
       "      <td>0.000000</td>\n",
       "      <td>0.090909</td>\n",
       "      <td>0.142857</td>\n",
       "      <td>1.000000</td>\n",
       "      <td>1.00</td>\n",
       "    </tr>\n",
       "    <tr>\n",
       "      <th>a_rev_regime</th>\n",
       "      <td>0.195652</td>\n",
       "      <td>0.000000</td>\n",
       "      <td>0.000000</td>\n",
       "      <td>1.000000</td>\n",
       "      <td>1.000000</td>\n",
       "      <td>0.000000</td>\n",
       "      <td>0.000000</td>\n",
       "      <td>0.00</td>\n",
       "    </tr>\n",
       "    <tr>\n",
       "      <th>a_rev_other</th>\n",
       "      <td>0.065217</td>\n",
       "      <td>0.000000</td>\n",
       "      <td>0.000000</td>\n",
       "      <td>0.000000</td>\n",
       "      <td>0.000000</td>\n",
       "      <td>1.000000</td>\n",
       "      <td>0.000000</td>\n",
       "      <td>0.00</td>\n",
       "    </tr>\n",
       "    <tr>\n",
       "      <th>a_fatalities</th>\n",
       "      <td>0.000000</td>\n",
       "      <td>0.000000</td>\n",
       "      <td>0.000000</td>\n",
       "      <td>0.000000</td>\n",
       "      <td>0.000000</td>\n",
       "      <td>0.000000</td>\n",
       "      <td>0.000000</td>\n",
       "      <td>0.00</td>\n",
       "    </tr>\n",
       "    <tr>\n",
       "      <th>a_hiact</th>\n",
       "      <td>14.000000</td>\n",
       "      <td>13.008798</td>\n",
       "      <td>13.214286</td>\n",
       "      <td>16.166667</td>\n",
       "      <td>14.545455</td>\n",
       "      <td>13.000000</td>\n",
       "      <td>17.000000</td>\n",
       "      <td>7.00</td>\n",
       "    </tr>\n",
       "    <tr>\n",
       "      <th>a_hostlev</th>\n",
       "      <td>3.760870</td>\n",
       "      <td>3.579179</td>\n",
       "      <td>3.619048</td>\n",
       "      <td>4.000000</td>\n",
       "      <td>3.818182</td>\n",
       "      <td>3.571429</td>\n",
       "      <td>4.000000</td>\n",
       "      <td>3.00</td>\n",
       "    </tr>\n",
       "    <tr>\n",
       "      <th>a_orig</th>\n",
       "      <td>1.000000</td>\n",
       "      <td>1.000000</td>\n",
       "      <td>1.000000</td>\n",
       "      <td>1.000000</td>\n",
       "      <td>1.000000</td>\n",
       "      <td>1.000000</td>\n",
       "      <td>1.000000</td>\n",
       "      <td>1.00</td>\n",
       "    </tr>\n",
       "    <tr>\n",
       "      <th>a_coalition</th>\n",
       "      <td>3.804348</td>\n",
       "      <td>0.048387</td>\n",
       "      <td>0.011905</td>\n",
       "      <td>1.333333</td>\n",
       "      <td>0.000000</td>\n",
       "      <td>0.000000</td>\n",
       "      <td>0.000000</td>\n",
       "      <td>0.00</td>\n",
       "    </tr>\n",
       "    <tr>\n",
       "      <th>b_georegion</th>\n",
       "      <td>NaN</td>\n",
       "      <td>NaN</td>\n",
       "      <td>NaN</td>\n",
       "      <td>NaN</td>\n",
       "      <td>NaN</td>\n",
       "      <td>NaN</td>\n",
       "      <td>NaN</td>\n",
       "      <td>NaN</td>\n",
       "    </tr>\n",
       "    <tr>\n",
       "      <th>b_poliregion</th>\n",
       "      <td>NaN</td>\n",
       "      <td>NaN</td>\n",
       "      <td>NaN</td>\n",
       "      <td>NaN</td>\n",
       "      <td>NaN</td>\n",
       "      <td>NaN</td>\n",
       "      <td>NaN</td>\n",
       "      <td>NaN</td>\n",
       "    </tr>\n",
       "    <tr>\n",
       "      <th>b_rev_territory</th>\n",
       "      <td>0.195652</td>\n",
       "      <td>0.000000</td>\n",
       "      <td>1.000000</td>\n",
       "      <td>0.000000</td>\n",
       "      <td>0.000000</td>\n",
       "      <td>0.000000</td>\n",
       "      <td>1.000000</td>\n",
       "      <td>1.00</td>\n",
       "    </tr>\n",
       "    <tr>\n",
       "      <th>b_rev_policy</th>\n",
       "      <td>0.260870</td>\n",
       "      <td>0.183284</td>\n",
       "      <td>0.035714</td>\n",
       "      <td>0.000000</td>\n",
       "      <td>0.000000</td>\n",
       "      <td>0.000000</td>\n",
       "      <td>1.000000</td>\n",
       "      <td>1.00</td>\n",
       "    </tr>\n",
       "    <tr>\n",
       "      <th>b_rev_regime</th>\n",
       "      <td>0.260870</td>\n",
       "      <td>0.000000</td>\n",
       "      <td>0.000000</td>\n",
       "      <td>0.000000</td>\n",
       "      <td>0.000000</td>\n",
       "      <td>0.000000</td>\n",
       "      <td>0.000000</td>\n",
       "      <td>0.00</td>\n",
       "    </tr>\n",
       "    <tr>\n",
       "      <th>b_rev_other</th>\n",
       "      <td>0.108696</td>\n",
       "      <td>0.000000</td>\n",
       "      <td>0.000000</td>\n",
       "      <td>0.000000</td>\n",
       "      <td>0.000000</td>\n",
       "      <td>0.000000</td>\n",
       "      <td>0.000000</td>\n",
       "      <td>0.00</td>\n",
       "    </tr>\n",
       "    <tr>\n",
       "      <th>b_fatalities</th>\n",
       "      <td>0.000000</td>\n",
       "      <td>0.000000</td>\n",
       "      <td>0.000000</td>\n",
       "      <td>0.000000</td>\n",
       "      <td>0.000000</td>\n",
       "      <td>0.000000</td>\n",
       "      <td>0.000000</td>\n",
       "      <td>0.00</td>\n",
       "    </tr>\n",
       "    <tr>\n",
       "      <th>b_hiact</th>\n",
       "      <td>9.282609</td>\n",
       "      <td>5.593842</td>\n",
       "      <td>8.750000</td>\n",
       "      <td>15.333333</td>\n",
       "      <td>0.000000</td>\n",
       "      <td>1.142857</td>\n",
       "      <td>17.000000</td>\n",
       "      <td>7.00</td>\n",
       "    </tr>\n",
       "    <tr>\n",
       "      <th>b_hostlev</th>\n",
       "      <td>2.804348</td>\n",
       "      <td>2.067449</td>\n",
       "      <td>2.726190</td>\n",
       "      <td>3.833333</td>\n",
       "      <td>1.000000</td>\n",
       "      <td>1.285714</td>\n",
       "      <td>4.000000</td>\n",
       "      <td>3.00</td>\n",
       "    </tr>\n",
       "    <tr>\n",
       "      <th>b_orig</th>\n",
       "      <td>0.978261</td>\n",
       "      <td>1.000000</td>\n",
       "      <td>1.000000</td>\n",
       "      <td>1.000000</td>\n",
       "      <td>1.000000</td>\n",
       "      <td>1.000000</td>\n",
       "      <td>1.000000</td>\n",
       "      <td>1.00</td>\n",
       "    </tr>\n",
       "    <tr>\n",
       "      <th>b_coalition</th>\n",
       "      <td>1.934783</td>\n",
       "      <td>0.067449</td>\n",
       "      <td>0.011905</td>\n",
       "      <td>0.666667</td>\n",
       "      <td>0.000000</td>\n",
       "      <td>0.142857</td>\n",
       "      <td>0.142857</td>\n",
       "      <td>0.25</td>\n",
       "    </tr>\n",
       "  </tbody>\n",
       "</table>\n",
       "</div>"
      ],
      "text/plain": [
       "cluster                   -1            0            1            2  \\\n",
       "dispnum          4192.782609  4247.958944  4292.559524  4066.500000   \n",
       "y_avgdur          641.717391   110.556452   159.529762   315.166667   \n",
       "y_hiact            14.086957    13.294721    13.238095    16.333333   \n",
       "year             1991.543478  1994.055718  2001.714286  1994.500000   \n",
       "outcome             4.913043     5.601173     6.119048     2.333333   \n",
       "settle              2.760870     2.903226     2.809524     2.166667   \n",
       "recip               0.630435     0.373900     0.654762     1.000000   \n",
       "a_georegion              NaN          NaN          NaN          NaN   \n",
       "a_poliregion             NaN          NaN          NaN          NaN   \n",
       "a_rev_territory     0.195652     0.127566     0.726190     0.000000   \n",
       "a_rev_policy        0.456522     0.511730     0.011905     0.000000   \n",
       "a_rev_regime        0.195652     0.000000     0.000000     1.000000   \n",
       "a_rev_other         0.065217     0.000000     0.000000     0.000000   \n",
       "a_fatalities        0.000000     0.000000     0.000000     0.000000   \n",
       "a_hiact            14.000000    13.008798    13.214286    16.166667   \n",
       "a_hostlev           3.760870     3.579179     3.619048     4.000000   \n",
       "a_orig              1.000000     1.000000     1.000000     1.000000   \n",
       "a_coalition         3.804348     0.048387     0.011905     1.333333   \n",
       "b_georegion              NaN          NaN          NaN          NaN   \n",
       "b_poliregion             NaN          NaN          NaN          NaN   \n",
       "b_rev_territory     0.195652     0.000000     1.000000     0.000000   \n",
       "b_rev_policy        0.260870     0.183284     0.035714     0.000000   \n",
       "b_rev_regime        0.260870     0.000000     0.000000     0.000000   \n",
       "b_rev_other         0.108696     0.000000     0.000000     0.000000   \n",
       "b_fatalities        0.000000     0.000000     0.000000     0.000000   \n",
       "b_hiact             9.282609     5.593842     8.750000    15.333333   \n",
       "b_hostlev           2.804348     2.067449     2.726190     3.833333   \n",
       "b_orig              0.978261     1.000000     1.000000     1.000000   \n",
       "b_coalition         1.934783     0.067449     0.011905     0.666667   \n",
       "\n",
       "cluster                    3            4            5        6  \n",
       "dispnum          4145.545455  4186.571429  4281.000000  4450.50  \n",
       "y_avgdur          151.136364    67.571429   240.714286   298.50  \n",
       "y_hiact            14.545455    13.142857    17.000000     7.00  \n",
       "year             1988.818182  1998.857143  2000.857143  2005.25  \n",
       "outcome             4.909091     5.142857     5.428571     5.75  \n",
       "settle              2.909091     2.857143     2.428571     3.00  \n",
       "recip               0.000000     0.000000     1.000000     1.00  \n",
       "a_georegion              NaN          NaN          NaN      NaN  \n",
       "a_poliregion             NaN          NaN          NaN      NaN  \n",
       "a_rev_territory     0.000000     0.000000     1.000000     1.00  \n",
       "a_rev_policy        0.090909     0.142857     1.000000     1.00  \n",
       "a_rev_regime        1.000000     0.000000     0.000000     0.00  \n",
       "a_rev_other         0.000000     1.000000     0.000000     0.00  \n",
       "a_fatalities        0.000000     0.000000     0.000000     0.00  \n",
       "a_hiact            14.545455    13.000000    17.000000     7.00  \n",
       "a_hostlev           3.818182     3.571429     4.000000     3.00  \n",
       "a_orig              1.000000     1.000000     1.000000     1.00  \n",
       "a_coalition         0.000000     0.000000     0.000000     0.00  \n",
       "b_georegion              NaN          NaN          NaN      NaN  \n",
       "b_poliregion             NaN          NaN          NaN      NaN  \n",
       "b_rev_territory     0.000000     0.000000     1.000000     1.00  \n",
       "b_rev_policy        0.000000     0.000000     1.000000     1.00  \n",
       "b_rev_regime        0.000000     0.000000     0.000000     0.00  \n",
       "b_rev_other         0.000000     0.000000     0.000000     0.00  \n",
       "b_fatalities        0.000000     0.000000     0.000000     0.00  \n",
       "b_hiact             0.000000     1.142857    17.000000     7.00  \n",
       "b_hostlev           1.000000     1.285714     4.000000     3.00  \n",
       "b_orig              1.000000     1.000000     1.000000     1.00  \n",
       "b_coalition         0.000000     0.142857     0.142857     0.25  "
      ]
     },
     "execution_count": 17,
     "metadata": {},
     "output_type": "execute_result"
    }
   ],
   "source": [
    "df.groupby('cluster').mean().T[[-1, 0, 1, 2, 3, 4, 5, 6]]"
   ]
  },
  {
   "cell_type": "code",
   "execution_count": 51,
   "metadata": {},
   "outputs": [],
   "source": [
    "prep = df.drop(columns=dbscan_drops)\n",
    "\n",
    "X = prep.drop(columns=target)\n",
    "y = prep[target]"
   ]
  },
  {
   "cell_type": "code",
   "execution_count": 52,
   "metadata": {},
   "outputs": [
    {
     "data": {
      "text/plain": [
       "169.93161340522818"
      ]
     },
     "execution_count": 52,
     "metadata": {},
     "output_type": "execute_result"
    }
   ],
   "source": [
    "autogrid(X, y, BasicRidgePipe, model_grid=ridge_grid, min_bound=1.0)"
   ]
  },
  {
   "cell_type": "code",
   "execution_count": 55,
   "metadata": {},
   "outputs": [
    {
     "data": {
      "text/plain": [
       "137.38821433168877"
      ]
     },
     "execution_count": 55,
     "metadata": {},
     "output_type": "execute_result"
    }
   ],
   "source": [
    "autogrid(X, y, BasicSVRPipe, model_grid=svr_grid, min_bound=1.0)"
   ]
  },
  {
   "cell_type": "code",
   "execution_count": 56,
   "metadata": {},
   "outputs": [
    {
     "data": {
      "text/plain": [
       "179.09194840575165"
      ]
     },
     "execution_count": 56,
     "metadata": {},
     "output_type": "execute_result"
    }
   ],
   "source": [
    "autogrid(X, y, BasicXGBPipe, model_grid=xgb_grid,estimator_grid=bound=1.0)"
   ]
  },
  {
   "cell_type": "markdown",
   "metadata": {},
   "source": [
    "---\n",
    "---\n",
    "\n",
    "## Modelling & Code \n",
    "\n",
    "---\n",
    "---\n",
    "\n",
    "1. Target: \"hiact\" for sides a & b\n",
    "2. Preprocessing: PCA + drop low freqs\n",
    "3. Models: SVR"
   ]
  },
  {
   "cell_type": "code",
   "execution_count": 28,
   "metadata": {},
   "outputs": [],
   "source": [
    "#a_hiact prediction:\n",
    "\n",
    "latest_drops = ['dispnum', 'outcome', 'settle', 'a_hiact']\n",
    "latest_target = \"a_hiact\""
   ]
  },
  {
   "cell_type": "code",
   "execution_count": 29,
   "metadata": {},
   "outputs": [],
   "source": [
    "prep = autohot(df, one_hots)\n",
    "prep = drop_low_freqs(prep, one_hots)"
   ]
  },
  {
   "cell_type": "code",
   "execution_count": 30,
   "metadata": {},
   "outputs": [],
   "source": [
    "X = prep.drop(columns=latest_drops)\n",
    "y = prep[latest_target]"
   ]
  },
  {
   "cell_type": "code",
   "execution_count": 31,
   "metadata": {},
   "outputs": [
    {
     "data": {
      "text/plain": [
       "2.2018935885990123"
      ]
     },
     "execution_count": 31,
     "metadata": {},
     "output_type": "execute_result"
    }
   ],
   "source": [
    "pca_grid = {\n",
    "    \"pca__n_components\":[None, 10]\n",
    "}\n",
    "\n",
    "svr_grid = {\n",
    "    \"svr__C\":[0.1, 1, 10]\n",
    "}\n",
    "\n",
    "autogrid(X, y, PCA_SVRPipe, model_grid=svr_grid, estimator_grid=pca_grid, min_bound=0.0, max_bound=21.0)"
   ]
  },
  {
   "cell_type": "markdown",
   "metadata": {},
   "source": [
    "---\n",
    "---"
   ]
  },
  {
   "cell_type": "code",
   "execution_count": 32,
   "metadata": {},
   "outputs": [],
   "source": [
    "latest_drops = ['dispnum', 'outcome', 'settle', 'b_hiact']\n",
    "latest_target = \"b_hiact\""
   ]
  },
  {
   "cell_type": "code",
   "execution_count": 33,
   "metadata": {},
   "outputs": [],
   "source": [
    "prep = autohot(df, one_hots)\n",
    "prep = drop_low_freqs(prep, one_hots)"
   ]
  },
  {
   "cell_type": "code",
   "execution_count": 34,
   "metadata": {},
   "outputs": [],
   "source": [
    "X = prep.drop(columns=latest_drops)\n",
    "y = prep[latest_target]"
   ]
  },
  {
   "cell_type": "code",
   "execution_count": 35,
   "metadata": {},
   "outputs": [
    {
     "data": {
      "text/plain": [
       "4.331207244148111"
      ]
     },
     "execution_count": 35,
     "metadata": {},
     "output_type": "execute_result"
    }
   ],
   "source": [
    "pca_grid = {\n",
    "    \"pca__n_components\":[None, 10]\n",
    "}\n",
    "\n",
    "svr_grid = {\n",
    "    \"svr__C\":[0.1, 1, 10]\n",
    "}\n",
    "\n",
    "\n",
    "autogrid(X, y, PCA_SVRPipe, model_grid=svr_grid, estimator_grid=pca_grid, min_bound=0.0, max_bound=21.0)"
   ]
  }
 ],
 "metadata": {
  "kernelspec": {
   "display_name": "Python 3",
   "language": "python",
   "name": "python3"
  },
  "language_info": {
   "codemirror_mode": {
    "name": "ipython",
    "version": 3
   },
   "file_extension": ".py",
   "mimetype": "text/x-python",
   "name": "python",
   "nbconvert_exporter": "python",
   "pygments_lexer": "ipython3",
   "version": "3.7.6"
  }
 },
 "nbformat": 4,
 "nbformat_minor": 4
}
